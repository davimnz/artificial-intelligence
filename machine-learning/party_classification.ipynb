{
 "cells": [
  {
   "cell_type": "markdown",
   "id": "1c9a2bac",
   "metadata": {},
   "source": [
    "# Laboratório 2 – Aprendizado de Máquina Probabilístico\n",
    "\n",
    "**Instituto Tecnológico de Aeronáutica – ITA**\n",
    "\n",
    "**Inteligência Artificial – CMC-15**\n",
    "\n",
    "**Professores:** \n",
    "\n",
    "Paulo André Lima de Castro\n",
    "\n",
    "Paulo Marcelo Tasinaffo\n",
    "\n",
    "**Alunos:**\n",
    "\n",
    "Alvaro Tedeschi Neto\n",
    "\n",
    "Davi Muniz Vasconcelos\n",
    "\n",
    "Gabriel Henrique Gobi\n",
    "\n",
    "Thiago Lopes de Araujo\n",
    "\n",
    "---"
   ]
  },
  {
   "cell_type": "code",
   "execution_count": 3,
   "id": "1b2fc8c7",
   "metadata": {},
   "outputs": [],
   "source": [
    "# for random decision of the tree criterias'\n",
    "import random\n",
    "\n",
    "# for calculating entropy\n",
    "import math\n",
    "\n",
    "# for data manipulation\n",
    "import pandas as pd\n",
    "\n",
    "# for train and test split\n",
    "from sklearn.model_selection import train_test_split\n",
    "\n",
    "# for confusion matrix\n",
    "from sklearn.metrics import confusion_matrix\n",
    "\n",
    "# for cohen's kappa coefficient\n",
    "from sklearn.metrics import cohen_kappa_score\n",
    "\n",
    "# for visualize the decision tree\n",
    "from graphviz import Digraph\n",
    "import pydot\n",
    "\n",
    "# for amazing plots\n",
    "import matplotlib.pyplot as plt\n",
    "import seaborn as sns"
   ]
  },
  {
   "cell_type": "markdown",
   "id": "560c2b96",
   "metadata": {},
   "source": [
    "## 2.1 Dataset"
   ]
  },
  {
   "cell_type": "markdown",
   "id": "0ddc29be",
   "metadata": {},
   "source": [
    "In `republican_democrat.txt` we have the following description of the data:\n",
    "\n",
    "```\n",
    "This data set includes votes for each of the U.S. House of Representatives Congressmen on the 16 key votes identified by the CQA.  The CQA lists nine different types of votes: voted for, paired for, and announced for (these three simplified to yea), voted against, paired against, and announced against (these three simplified to nay), voted present, voted present to avoid conflict of interest, and did not vote or otherwise make a position known (these three simplified to an unknown disposition).\n",
    "``` \n",
    "\n",
    "Let's see how the data looks:"
   ]
  },
  {
   "cell_type": "code",
   "execution_count": 4,
   "id": "cd1e0830",
   "metadata": {},
   "outputs": [
    {
     "name": "stdout",
     "output_type": "stream",
     "text": [
      "The dataset has 415 entries\n"
     ]
    },
    {
     "data": {
      "text/html": [
       "<div>\n",
       "<style scoped>\n",
       "    .dataframe tbody tr th:only-of-type {\n",
       "        vertical-align: middle;\n",
       "    }\n",
       "\n",
       "    .dataframe tbody tr th {\n",
       "        vertical-align: top;\n",
       "    }\n",
       "\n",
       "    .dataframe thead th {\n",
       "        text-align: right;\n",
       "    }\n",
       "</style>\n",
       "<table border=\"1\" class=\"dataframe\">\n",
       "  <thead>\n",
       "    <tr style=\"text-align: right;\">\n",
       "      <th></th>\n",
       "      <th>handicapped-infants</th>\n",
       "      <th>water-project-cost-sharing</th>\n",
       "      <th>adoption-of-the-budget-resolution</th>\n",
       "      <th>physician-fee-freeze</th>\n",
       "      <th>religious-groups-in-schools</th>\n",
       "      <th>anti-satellite-test-ban</th>\n",
       "      <th>mx-missile</th>\n",
       "      <th>immigration</th>\n",
       "      <th>synfuels-corporation-cutback</th>\n",
       "      <th>education-spending</th>\n",
       "      <th>superfund-right-to-sue</th>\n",
       "      <th>crime</th>\n",
       "      <th>duty-free-exports</th>\n",
       "      <th>export-administration-act-south-africa</th>\n",
       "      <th>Target</th>\n",
       "    </tr>\n",
       "  </thead>\n",
       "  <tbody>\n",
       "    <tr>\n",
       "      <th>0</th>\n",
       "      <td>n</td>\n",
       "      <td>y</td>\n",
       "      <td>n</td>\n",
       "      <td>y</td>\n",
       "      <td>y</td>\n",
       "      <td>n</td>\n",
       "      <td>n</td>\n",
       "      <td>y</td>\n",
       "      <td>?</td>\n",
       "      <td>y</td>\n",
       "      <td>y</td>\n",
       "      <td>y</td>\n",
       "      <td>n</td>\n",
       "      <td>y</td>\n",
       "      <td>republican</td>\n",
       "    </tr>\n",
       "    <tr>\n",
       "      <th>1</th>\n",
       "      <td>n</td>\n",
       "      <td>y</td>\n",
       "      <td>n</td>\n",
       "      <td>y</td>\n",
       "      <td>y</td>\n",
       "      <td>n</td>\n",
       "      <td>n</td>\n",
       "      <td>n</td>\n",
       "      <td>n</td>\n",
       "      <td>y</td>\n",
       "      <td>y</td>\n",
       "      <td>y</td>\n",
       "      <td>n</td>\n",
       "      <td>?</td>\n",
       "      <td>republican</td>\n",
       "    </tr>\n",
       "    <tr>\n",
       "      <th>2</th>\n",
       "      <td>?</td>\n",
       "      <td>y</td>\n",
       "      <td>y</td>\n",
       "      <td>?</td>\n",
       "      <td>y</td>\n",
       "      <td>n</td>\n",
       "      <td>n</td>\n",
       "      <td>n</td>\n",
       "      <td>y</td>\n",
       "      <td>n</td>\n",
       "      <td>y</td>\n",
       "      <td>y</td>\n",
       "      <td>n</td>\n",
       "      <td>n</td>\n",
       "      <td>democrat</td>\n",
       "    </tr>\n",
       "    <tr>\n",
       "      <th>3</th>\n",
       "      <td>n</td>\n",
       "      <td>y</td>\n",
       "      <td>y</td>\n",
       "      <td>n</td>\n",
       "      <td>y</td>\n",
       "      <td>n</td>\n",
       "      <td>n</td>\n",
       "      <td>n</td>\n",
       "      <td>y</td>\n",
       "      <td>n</td>\n",
       "      <td>y</td>\n",
       "      <td>n</td>\n",
       "      <td>n</td>\n",
       "      <td>y</td>\n",
       "      <td>democrat</td>\n",
       "    </tr>\n",
       "    <tr>\n",
       "      <th>4</th>\n",
       "      <td>y</td>\n",
       "      <td>y</td>\n",
       "      <td>y</td>\n",
       "      <td>n</td>\n",
       "      <td>y</td>\n",
       "      <td>n</td>\n",
       "      <td>n</td>\n",
       "      <td>n</td>\n",
       "      <td>y</td>\n",
       "      <td>?</td>\n",
       "      <td>y</td>\n",
       "      <td>y</td>\n",
       "      <td>y</td>\n",
       "      <td>y</td>\n",
       "      <td>democrat</td>\n",
       "    </tr>\n",
       "  </tbody>\n",
       "</table>\n",
       "</div>"
      ],
      "text/plain": [
       "  handicapped-infants water-project-cost-sharing  \\\n",
       "0                   n                          y   \n",
       "1                   n                          y   \n",
       "2                   ?                          y   \n",
       "3                   n                          y   \n",
       "4                   y                          y   \n",
       "\n",
       "  adoption-of-the-budget-resolution physician-fee-freeze  \\\n",
       "0                                 n                    y   \n",
       "1                                 n                    y   \n",
       "2                                 y                    ?   \n",
       "3                                 y                    n   \n",
       "4                                 y                    n   \n",
       "\n",
       "  religious-groups-in-schools anti-satellite-test-ban mx-missile immigration  \\\n",
       "0                           y                       n          n           y   \n",
       "1                           y                       n          n           n   \n",
       "2                           y                       n          n           n   \n",
       "3                           y                       n          n           n   \n",
       "4                           y                       n          n           n   \n",
       "\n",
       "  synfuels-corporation-cutback education-spending superfund-right-to-sue  \\\n",
       "0                            ?                  y                      y   \n",
       "1                            n                  y                      y   \n",
       "2                            y                  n                      y   \n",
       "3                            y                  n                      y   \n",
       "4                            y                  ?                      y   \n",
       "\n",
       "  crime duty-free-exports export-administration-act-south-africa      Target  \n",
       "0     y                 n                                      y  republican  \n",
       "1     y                 n                                      ?  republican  \n",
       "2     y                 n                                      n    democrat  \n",
       "3     n                 n                                      y    democrat  \n",
       "4     y                 y                                      y    democrat  "
      ]
     },
     "execution_count": 4,
     "metadata": {},
     "output_type": "execute_result"
    }
   ],
   "source": [
    "df = pd.read_csv(\"data/republican_democrat.csv\")\n",
    "print(f'The dataset has {df.shape[0]} entries')\n",
    "df.head()"
   ]
  },
  {
   "cell_type": "markdown",
   "id": "ac59ce24",
   "metadata": {},
   "source": [
    "All features are ***categoric features***. The columns above represent, accordingly with the text document provided:\n",
    "\n",
    "```\n",
    "1. Class Name: 2 (democrat, republican)\n",
    "2. handicapped-infants: 2 (y,n)\n",
    "3. water-project-cost-sharing: 2 (y,n)\n",
    "4. adoption-of-the-budget-resolution: 2 (y,n)\n",
    "5. physician-fee-freeze: 2 (y,n)\n",
    "6. religious-groups-in-schools: 2 (y,n)\n",
    "7. anti-satellite-test-ban: 2 (y,n)\n",
    "8. mx-missile: 2 (y,n)\n",
    "9. immigration: 2 (y,n)\n",
    "10. synfuels-corporation-cutback: 2 (y,n)\n",
    "11. education-spending: 2 (y,n)\n",
    "12. superfund-right-to-sue: 2 (y,n)\n",
    "13. crime: 2 (y,n)\n",
    "14. duty-free-exports: 2 (y,n)\n",
    "15. export-administration-act-south-africa: 2 (y,n)\n",
    "```"
   ]
  },
  {
   "cell_type": "markdown",
   "id": "4dcd411a",
   "metadata": {},
   "source": [
    "## 2.2 Tasks"
   ]
  },
  {
   "cell_type": "markdown",
   "id": "4301d062",
   "metadata": {},
   "source": [
    "### 2.2.1 Decision Tree Classifier"
   ]
  },
  {
   "cell_type": "markdown",
   "id": "c9bf3220",
   "metadata": {},
   "source": [
    "For \"missing\" values (?), we will not do any pre-processing such as data removal or inputation. In this case, the information of the \"missing\" data is relevant, since it can show a neutrality of opinion on the part of the party's candidates with respect to the themes asked to then.\n",
    "\n",
    "Splitting the dataset on train and test sets:"
   ]
  },
  {
   "cell_type": "code",
   "execution_count": 5,
   "id": "286ec8bb",
   "metadata": {},
   "outputs": [
    {
     "data": {
      "text/plain": [
       "((332, 14), (83, 14))"
      ]
     },
     "execution_count": 5,
     "metadata": {},
     "output_type": "execute_result"
    }
   ],
   "source": [
    "X_train, X_test, y_train, y_test = train_test_split(\n",
    "    df.drop(['Target'], axis=1), \n",
    "    df['Target'],  \n",
    "    test_size=0.2,  \n",
    "    random_state=0)  \n",
    "\n",
    "X_train.shape, X_test.shape"
   ]
  },
  {
   "cell_type": "markdown",
   "id": "3edfeeeb",
   "metadata": {},
   "source": [
    "The next classes will implement a tree data structure and the Decision Tree classifier that will be used for this problem."
   ]
  },
  {
   "cell_type": "markdown",
   "id": "b74ce0dd",
   "metadata": {},
   "source": [
    "#### TreeNode, DecisionNode and TargetNode"
   ]
  },
  {
   "cell_type": "code",
   "execution_count": 6,
   "id": "9ab12f14",
   "metadata": {
    "tags": []
   },
   "outputs": [],
   "source": [
    "class TreeNode:\n",
    "    \"\"\"\n",
    "    Auxiliary class for the nodes in the Decision Tree.\n",
    "    \"\"\" \n",
    "    def __init__(self):\n",
    "        \"\"\"\n",
    "        Creates a generic node.\n",
    "        This class will not be instatiated.\n",
    "        \"\"\"\n",
    "        self.parent = None\n",
    "        self.value = None\n",
    "        self.children = None\n",
    "    \n",
    "    def add_parent(self, node):\n",
    "        \"\"\"\n",
    "        Adds a node parent to this node.\n",
    "\n",
    "        :arg node: The parent node.\n",
    "        :type node: TreeNode.\n",
    "        \"\"\"\n",
    "        self.parent = node\n",
    "        \n",
    "    def is_leaf(self):\n",
    "        \"\"\"\n",
    "        Checks if this node is a leaf or not.\n",
    "        \n",
    "        :return: If the node is a leaf.\n",
    "        :return type: Bool.\n",
    "        \"\"\"\n",
    "        raise NotImplementedError(\"This is an abstract class.\")\n",
    "                   \n",
    "class DecisionNode(TreeNode):\n",
    "    \"\"\"\n",
    "    Type of the inner nodes of the Decision Tree.\n",
    "    This type of node has a criteria and children.\n",
    "    The children are linked by a value of the criteria.\n",
    "    \"\"\"\n",
    "    def __init__(self, criteria, gain, default):\n",
    "        \"\"\"\n",
    "        Creates a decision node with a criteria.\n",
    "        \n",
    "        :arg criteria: The decision criteria for this node.\n",
    "        :type criteria: String.\n",
    "        :arg default: The default target value for this node, when it has no decision for an asked value.\n",
    "        :type default: Object.\n",
    "        \"\"\"\n",
    "        super().__init__()\n",
    "        self.value = criteria\n",
    "        self.gain = gain\n",
    "        self.default = default\n",
    "        self.children = {}\n",
    "        \n",
    "    def add_children(self, value, node):\n",
    "        \"\"\"\n",
    "        Add a child to the node for criteria equal value.\n",
    "        \n",
    "        :arg value: Value of the edge which the child is linked by criteria.\n",
    "        :type value: Object.\n",
    "        :arg node: Child node to be linked to this node.\n",
    "        :type node: TreeNode.\n",
    "        \"\"\"\n",
    "        node.add_parent(self)\n",
    "        self.children[value] = node\n",
    "    \n",
    "    def get_criteria(self):\n",
    "        \"\"\"\n",
    "        Gets the criteria used for decision.\n",
    "        \n",
    "        :return: Criteria value.\n",
    "        :return type: String.\n",
    "        \"\"\"\n",
    "        return self.value\n",
    "        \n",
    "    def get_child(self, value):\n",
    "        \"\"\"\n",
    "        Gets the child of this node that is linked by a edge with some value for criteria.\n",
    "        \n",
    "        :arg value: Value of the edge which the child is linked by criteria. \n",
    "        :return: The child of the node which edge has value equals criteria.\n",
    "        :return type: TreeNode.\n",
    "        \n",
    "        \"\"\"\n",
    "        if not value in self.children.keys():\n",
    "            self.children[value] = TargetNode(self.default)\n",
    "        return self.children[value]\n",
    "    \n",
    "    \n",
    "    def is_leaf(self):\n",
    "        \"\"\"\n",
    "        Checks if this node is a leaf or not.\n",
    "        \n",
    "        :return: If the node is a leaf.\n",
    "        :return type: Bool.\n",
    "        \"\"\"\n",
    "        return False\n",
    "\n",
    "class TargetNode(TreeNode):\n",
    "    \"\"\"\n",
    "    Type of the leaf nodes of the Decision Tree.\n",
    "    This type of node has an value for the decision target and no children.\n",
    "    \"\"\"\n",
    "    def __init__(self, target_value):\n",
    "        \"\"\"\n",
    "        Creates a target node with a target value for decision.\n",
    "        \n",
    "        :arg target_value: The value to be predicted on decision at this node.\n",
    "        :type target_value: Object.\n",
    "        \"\"\"\n",
    "        super().__init__()\n",
    "        self.value = target_value\n",
    "    \n",
    "    def get_target_value(self):\n",
    "        \"\"\"\n",
    "        Gets the target value for predicting at this node.\n",
    "        \n",
    "        :return: The target value for decision.\n",
    "        :return type: Object.\n",
    "        \"\"\"\n",
    "        return self.value\n",
    "    \n",
    "    def is_leaf(self):\n",
    "        \"\"\"\n",
    "        Checks if this node is a leaf or not.\n",
    "        \n",
    "        :return: If the node is a leaf.\n",
    "        :return type: Bool.\n",
    "        \"\"\"\n",
    "        return True\n",
    "        "
   ]
  },
  {
   "cell_type": "markdown",
   "id": "627c0a0f",
   "metadata": {},
   "source": [
    "#### DecisionTreeClassifier"
   ]
  },
  {
   "cell_type": "code",
   "execution_count": 7,
   "id": "1f808424",
   "metadata": {},
   "outputs": [],
   "source": [
    "class DecisionTreeClassifier:\n",
    "    \"\"\"\n",
    "    Class for the ML model for supervised learning to make classification based on Decision Tree.\n",
    "    \"\"\"   \n",
    "    def __init__(self, splitter=\"best\", max_depth=None):\n",
    "        \"\"\"\n",
    "        Creates an instance of the classifier.\n",
    "        \"\"\"\n",
    "        if splitter != \"best\" and splitter != \"random\":\n",
    "            raise Exception(\"Invalid splitter method. Accepted values are [\\\"best\\\", \\\"random\\\"].\")\n",
    "        self._splitter = splitter\n",
    "        self._max_depth = max_depth\n",
    "        self.decision_tree = None\n",
    "    \n",
    "    def fit(self, X, y):\n",
    "        \"\"\"\n",
    "        Uses train data to generate the decision tree model used for prediction.\n",
    "        \n",
    "        :arg X: Data used for train the model with all features that can be used by the model.\n",
    "        :type X: pandas DataFrame.\n",
    "        :arg y: Data column with the target values for the supervised learning. Should be a binary target.\n",
    "        :type y: pandas Series.\n",
    "        \"\"\"\n",
    "        self.decision_tree = self._decision_tree_learn(X, y, X.columns.values.tolist(), 0)\n",
    "        \n",
    "    def predict(self, X):\n",
    "        \"\"\"\n",
    "        Makes predictions for the target value given a test dataset.\n",
    "        \n",
    "        :arg X: Data to be used as an input to the model to make class predicition.\n",
    "        :type X: pandas DataFrame.\n",
    "        :return: Predictions made by the model.\n",
    "        :return type: pandas Series.\n",
    "        \"\"\"\n",
    "        if self.decision_tree is None:\n",
    "            raise Exception(\"The model was not trained yet. Run fit method first.\")\n",
    "        y_predicted = []\n",
    "        for index, row in X.iterrows():\n",
    "            node = self.decision_tree # root node\n",
    "            while not node.is_leaf():\n",
    "                criteria = node.get_criteria()\n",
    "                node = node.get_child(row[criteria])\n",
    "            y_predicted.append(node.get_target_value())\n",
    "        return pd.Series(y_predicted)\n",
    "            \n",
    "    def _decision_tree_learn(self, X, y, features, depth):\n",
    "        \"\"\"\n",
    "        Recursive method to generate and update the decision tree model on training.\n",
    "        \n",
    "        :arg X: Subset of train data to be used to create a new subtree of the model.\n",
    "        :type X: pandas Dataframe.\n",
    "        :arg y: Subset of target values to be used to create a new subtree of the model.\n",
    "        :type y: pandas Series.\n",
    "        :arg features: List of features names used to create the criterias of this subtree of the model. \n",
    "        :type features: List of strings.\n",
    "        :arg depth: Depth of the current decision tree.\n",
    "        :type depth: Int.\n",
    "        :return: Subtree of the decision tree model.\n",
    "        :return type: TreeNode.\n",
    "        \"\"\"\n",
    "        if X_train.shape[0] == 0:\n",
    "            return None\n",
    "        \n",
    "        elif len(y.unique()) == 1:\n",
    "            return TargetNode(y.unique()[0])\n",
    "        \n",
    "        elif len(features) == 0 or depth == self._max_depth - 1:\n",
    "            return TargetNode(y.mode()[0]) \n",
    "                \n",
    "        else:\n",
    "            if self._splitter == \"random\":\n",
    "                criteria = random.choice(features)\n",
    "            elif self._splitter == \"best\":\n",
    "                criteria, gain = self._get_best_feature(X, y, features)\n",
    "                \n",
    "            m = y.mode()[0]\n",
    "            tree = DecisionNode(criteria, gain, m)   \n",
    "            for value in X[criteria].unique():\n",
    "                X_subset = X[X[criteria]==value]\n",
    "                y_subset = y[X[criteria]==value]\n",
    "                features_subset = list(features)\n",
    "                features_subset.remove(criteria)\n",
    "                subtree = self._decision_tree_learn(X_subset, y_subset, features_subset, depth+1)\n",
    "                tree.add_children(value, subtree)\n",
    "            return tree\n",
    "        \n",
    "    def _get_best_feature(self, X, y, features):\n",
    "        \"\"\"\n",
    "        Gets the best feature to use as a criteria on a decision node.\n",
    "        \n",
    "        :arg X: Subset of train data to be used to choose the best criteria.\n",
    "        :type X: pandas Dataframe.\n",
    "        :arg y: Subset of target values to be used to choose the best criteria.\n",
    "        :type y: pandas Series.\n",
    "        :arg features: List of features names used to choose the best criteria . \n",
    "        :type features: List of strings.\n",
    "        :return: the best criteria of the features that maximizes information gain and its gain.\n",
    "        :return type: (String, Float).\n",
    "        \"\"\"\n",
    "        best = ''\n",
    "        best_gain = -math.inf\n",
    "        entropy = self._get_entropy(y)\n",
    "        for feature in features:\n",
    "            new_entropy = 0\n",
    "            for value in X[feature].unique():\n",
    "                subset_y = y[X[feature]==value]\n",
    "                new_entropy += subset_y.count()/y.count() * self._get_entropy(subset_y)\n",
    "            info_gain = entropy - new_entropy\n",
    "            if info_gain > best_gain:\n",
    "                best = feature\n",
    "                best_gain = info_gain\n",
    "        return best, best_gain\n",
    "                \n",
    "    def _get_entropy(self, y):\n",
    "        \"\"\"\n",
    "        Calculates the entropy of the binary distribution in a subset of target values.\n",
    "        \n",
    "        :arg y: Subset of target values.\n",
    "        :type y: pandas Series.\n",
    "        :return: Entropy of the binary distribution of y values.\n",
    "        :return type: Float.\n",
    "        \"\"\"\n",
    "        s_value = y.unique()[0]\n",
    "        ps = y[y == s_value].count()\n",
    "        if len(y.unique()) > 1:\n",
    "            n_value = y.unique()[1]\n",
    "            pn = y[y == n_value].count()\n",
    "        else:\n",
    "            pn = 0\n",
    "        entropy = 0\n",
    "        if ps != 0:\n",
    "            entropy += -ps/(ps+pn)*math.log2(ps/(ps+pn))\n",
    "        if pn != 0:\n",
    "            entropy += -pn/(ps+pn)*math.log2(pn/(ps+pn))\n",
    "        return entropy\n",
    "            \n",
    "    def print_tree(self):\n",
    "        \"\"\"\n",
    "        Prints in text the decision tree model learned by the algorithm.\n",
    "        \"\"\"\n",
    "        def _recursive_print_tree(node, indent):\n",
    "            \"\"\"\n",
    "            Recursive method used for printing a subtree of the model.\n",
    "\n",
    "            :arg node: Root node of the subtree to be printed.\n",
    "            :type node: TreeNode.\n",
    "            :arg indent: Indentation used to show hierarchy in the tree.\n",
    "            :type indent: Char.\n",
    "            \"\"\"\n",
    "            if node.children is None:\n",
    "                return\n",
    "            for child in node.children:\n",
    "                print(indent, child, \":\", node.children[child].value)\n",
    "                _recursive_print_tree(node.children[child], indent+'\\t')\n",
    "        \n",
    "        root = self.decision_tree\n",
    "        if root is None:\n",
    "            return\n",
    "        print(root.value)\n",
    "        if root.children is None:\n",
    "            return\n",
    "        for child in root.children:\n",
    "            print(child, \":\", root.children[child].value)\n",
    "            _recursive_print_tree(root.children[child], indent='\\t')\n",
    "        \n",
    "    def visualize_party_classification(self):\n",
    "        \"\"\"\n",
    "        Shows and saves with graphvz a visual form of the Decision Tree with the party classification problem formatting.\n",
    "        \"\"\"\n",
    "        def _add_nodes_edges(node, node_name, dot=None):\n",
    "            \"\"\"\n",
    "            Recursive adds nodes and edges to the graphvz digraph.\n",
    "            \n",
    "            :arg node: Subtree root node of the decision tree.\n",
    "            :type node: TreeNode.\n",
    "            :arg node_name: Node name that references the subtree root node.\n",
    "            :type node_name: String.\n",
    "            :arg dot: Digraph with nodes and edges.\n",
    "            :type dot: Graphvz Digraph Object.\n",
    "            :return: Digraph updated with new nodes and edges.\n",
    "            :return type: Graphvz Digraph Object.\n",
    "            \"\"\"\n",
    "\n",
    "            if dot is None:\n",
    "                dot = Digraph()\n",
    "                dot.attr('node', shape='box')\n",
    "                node_name = node.value\n",
    "                if not node.is_leaf():\n",
    "                    node_label = node.value+'?\\n'+\"gain = {:.4f}\".format(node.gain)\n",
    "                else:\n",
    "                    node_label = node.value\n",
    "                dot.node(name=node_name, label=node_label)\n",
    "            \n",
    "            if node.children is None:\n",
    "                return dot\n",
    "        \n",
    "            for value, child_node in node.children.items():\n",
    "                child_node_name = node_name + '_' + child_node.value\n",
    "                if not child_node.is_leaf():\n",
    "                    child_node_label = child_node.value+'?\\n'+\"gain = {:.4f}\".format(child_node.gain)\n",
    "                    dot.node(name=child_node_name, label=child_node_label)\n",
    "                else:\n",
    "                    child_node_name += '_' + value\n",
    "                    child_node_label = child_node.value\n",
    "                    if child_node_label == 'democrat':\n",
    "                        dot.attr('node', color='red', fontcolor='red')\n",
    "                    if child_node_label == 'republican':\n",
    "                        dot.attr('node', color='blue', fontcolor='blue')\n",
    "                    dot.node(name=child_node_name, label=child_node_label)\n",
    "                    dot.attr('node', color='black', fontcolor='black')\n",
    "                    \n",
    "                if value == '?':\n",
    "                    dot.attr('edge', fontcolor='orange')\n",
    "                elif value == 'y':\n",
    "                    dot.attr('edge', fontcolor='green')\n",
    "                elif value == 'n':\n",
    "                    dot.attr('edge', fontcolor='red')\n",
    "                 \n",
    "                dot.edge(node_name, child_node_name, label=value)\n",
    "                dot.attr('edge', color='black')\n",
    "                \n",
    "                dot = _add_nodes_edges(child_node, child_node_name, dot=dot)\n",
    "                \n",
    "            return dot\n",
    "     \n",
    "        root = self.decision_tree\n",
    "        if root is None:\n",
    "            return  \n",
    "        dot = _add_nodes_edges(root, 'root')\n",
    "        dot.save(\"decision_tree_graph.dot\")\n",
    "        (graph,) = pydot.graph_from_dot_file(\"decision_tree_graph.dot\")\n",
    "        graph.write_png(\"decision_tree_graph.png\")\n",
    "        display(dot)"
   ]
  },
  {
   "cell_type": "code",
   "execution_count": 8,
   "id": "47944063",
   "metadata": {},
   "outputs": [],
   "source": [
    "DT = DecisionTreeClassifier(max_depth=3)\n",
    "DT.fit(X_train, y_train)"
   ]
  },
  {
   "cell_type": "code",
   "execution_count": 9,
   "id": "3f17ec47",
   "metadata": {
    "scrolled": true
   },
   "outputs": [
    {
     "name": "stdout",
     "output_type": "stream",
     "text": [
      "physician-fee-freeze\n",
      "y : synfuels-corporation-cutback\n",
      "\t n : republican\n",
      "\t y : republican\n",
      "\t ? : republican\n",
      "n : adoption-of-the-budget-resolution\n",
      "\t y : democrat\n",
      "\t n : democrat\n",
      "\t ? : democrat\n",
      "? : mx-missile\n",
      "\t n : democrat\n",
      "\t ? : republican\n",
      "\t y : democrat\n"
     ]
    }
   ],
   "source": [
    "DT.print_tree()"
   ]
  },
  {
   "cell_type": "code",
   "execution_count": 10,
   "id": "1fba1bc9",
   "metadata": {},
   "outputs": [
    {
     "data": {
      "image/svg+xml": "<?xml version=\"1.0\" encoding=\"UTF-8\" standalone=\"no\"?>\n<!DOCTYPE svg PUBLIC \"-//W3C//DTD SVG 1.1//EN\"\n \"http://www.w3.org/Graphics/SVG/1.1/DTD/svg11.dtd\">\n<!-- Generated by graphviz version 2.43.0 (0)\n -->\n<!-- Title: %3 Pages: 1 -->\n<svg width=\"940pt\" height=\"222pt\"\n viewBox=\"0.00 0.00 940.00 222.00\" xmlns=\"http://www.w3.org/2000/svg\" xmlns:xlink=\"http://www.w3.org/1999/xlink\">\n<g id=\"graph0\" class=\"graph\" transform=\"scale(1 1) rotate(0) translate(4 218)\">\n<title>%3</title>\n<polygon fill=\"white\" stroke=\"transparent\" points=\"-4,4 -4,-218 936,-218 936,4 -4,4\"/>\n<!-- physician&#45;fee&#45;freeze -->\n<g id=\"node1\" class=\"node\">\n<title>physician&#45;fee&#45;freeze</title>\n<polygon fill=\"none\" stroke=\"black\" points=\"557.5,-214 390.5,-214 390.5,-176 557.5,-176 557.5,-214\"/>\n<text text-anchor=\"middle\" x=\"474\" y=\"-198.8\" font-family=\"Times,serif\" font-size=\"14.00\">physician&#45;fee&#45;freeze?</text>\n<text text-anchor=\"middle\" x=\"474\" y=\"-183.8\" font-family=\"Times,serif\" font-size=\"14.00\">gain = 0.7108</text>\n</g>\n<!-- physician&#45;fee&#45;freeze_synfuels&#45;corporation&#45;cutback -->\n<g id=\"node2\" class=\"node\">\n<title>physician&#45;fee&#45;freeze_synfuels&#45;corporation&#45;cutback</title>\n<polygon fill=\"none\" stroke=\"black\" points=\"298,-125 68,-125 68,-87 298,-87 298,-125\"/>\n<text text-anchor=\"middle\" x=\"183\" y=\"-109.8\" font-family=\"Times,serif\" font-size=\"14.00\">synfuels&#45;corporation&#45;cutback?</text>\n<text text-anchor=\"middle\" x=\"183\" y=\"-94.8\" font-family=\"Times,serif\" font-size=\"14.00\">gain = 0.1193</text>\n</g>\n<!-- physician&#45;fee&#45;freeze&#45;&gt;physician&#45;fee&#45;freeze_synfuels&#45;corporation&#45;cutback -->\n<g id=\"edge1\" class=\"edge\">\n<title>physician&#45;fee&#45;freeze&#45;&gt;physician&#45;fee&#45;freeze_synfuels&#45;corporation&#45;cutback</title>\n<path fill=\"none\" stroke=\"black\" d=\"M413.7,-175.97C366.88,-161.98 301.89,-142.54 252.81,-127.87\"/>\n<polygon fill=\"black\" stroke=\"black\" points=\"253.8,-124.51 243.22,-125 251.8,-131.22 253.8,-124.51\"/>\n<text text-anchor=\"middle\" x=\"350.5\" y=\"-146.8\" font-family=\"Times,serif\" font-size=\"14.00\" fill=\"green\">y</text>\n</g>\n<!-- physician&#45;fee&#45;freeze_adoption&#45;of&#45;the&#45;budget&#45;resolution -->\n<g id=\"node6\" class=\"node\">\n<title>physician&#45;fee&#45;freeze_adoption&#45;of&#45;the&#45;budget&#45;resolution</title>\n<polygon fill=\"none\" stroke=\"black\" points=\"605.5,-125 342.5,-125 342.5,-87 605.5,-87 605.5,-125\"/>\n<text text-anchor=\"middle\" x=\"474\" y=\"-109.8\" font-family=\"Times,serif\" font-size=\"14.00\">adoption&#45;of&#45;the&#45;budget&#45;resolution?</text>\n<text text-anchor=\"middle\" x=\"474\" y=\"-94.8\" font-family=\"Times,serif\" font-size=\"14.00\">gain = 0.0361</text>\n</g>\n<!-- physician&#45;fee&#45;freeze&#45;&gt;physician&#45;fee&#45;freeze_adoption&#45;of&#45;the&#45;budget&#45;resolution -->\n<g id=\"edge5\" class=\"edge\">\n<title>physician&#45;fee&#45;freeze&#45;&gt;physician&#45;fee&#45;freeze_adoption&#45;of&#45;the&#45;budget&#45;resolution</title>\n<path fill=\"none\" stroke=\"black\" d=\"M474,-175.97C474,-164.19 474,-148.56 474,-135.16\"/>\n<polygon fill=\"black\" stroke=\"black\" points=\"477.5,-135 474,-125 470.5,-135 477.5,-135\"/>\n<text text-anchor=\"middle\" x=\"479\" y=\"-146.8\" font-family=\"Times,serif\" font-size=\"14.00\" fill=\"red\">n</text>\n</g>\n<!-- physician&#45;fee&#45;freeze_mx&#45;missile -->\n<g id=\"node10\" class=\"node\">\n<title>physician&#45;fee&#45;freeze_mx&#45;missile</title>\n<polygon fill=\"none\" stroke=\"black\" points=\"793,-125 675,-125 675,-87 793,-87 793,-125\"/>\n<text text-anchor=\"middle\" x=\"734\" y=\"-109.8\" font-family=\"Times,serif\" font-size=\"14.00\">mx&#45;missile?</text>\n<text text-anchor=\"middle\" x=\"734\" y=\"-94.8\" font-family=\"Times,serif\" font-size=\"14.00\">gain = 0.5203</text>\n</g>\n<!-- physician&#45;fee&#45;freeze&#45;&gt;physician&#45;fee&#45;freeze_mx&#45;missile -->\n<g id=\"edge9\" class=\"edge\">\n<title>physician&#45;fee&#45;freeze&#45;&gt;physician&#45;fee&#45;freeze_mx&#45;missile</title>\n<path fill=\"none\" stroke=\"black\" d=\"M527.87,-175.97C569.36,-162.09 626.81,-142.87 670.53,-128.24\"/>\n<polygon fill=\"black\" stroke=\"black\" points=\"671.82,-131.5 680.2,-125 669.6,-124.86 671.82,-131.5\"/>\n<text text-anchor=\"middle\" x=\"624\" y=\"-146.8\" font-family=\"Times,serif\" font-size=\"14.00\" fill=\"orange\">?</text>\n</g>\n<!-- physician&#45;fee&#45;freeze_synfuels&#45;corporation&#45;cutback_republican_n -->\n<g id=\"node3\" class=\"node\">\n<title>physician&#45;fee&#45;freeze_synfuels&#45;corporation&#45;cutback_republican_n</title>\n<polygon fill=\"none\" stroke=\"blue\" points=\"92,-36 0,-36 0,0 92,0 92,-36\"/>\n<text text-anchor=\"middle\" x=\"46\" y=\"-14.3\" font-family=\"Times,serif\" font-size=\"14.00\" fill=\"blue\">republican</text>\n</g>\n<!-- physician&#45;fee&#45;freeze_synfuels&#45;corporation&#45;cutback&#45;&gt;physician&#45;fee&#45;freeze_synfuels&#45;corporation&#45;cutback_republican_n -->\n<g id=\"edge2\" class=\"edge\">\n<title>physician&#45;fee&#45;freeze_synfuels&#45;corporation&#45;cutback&#45;&gt;physician&#45;fee&#45;freeze_synfuels&#45;corporation&#45;cutback_republican_n</title>\n<path fill=\"none\" stroke=\"black\" d=\"M154.28,-86.97C133.22,-73.75 104.49,-55.72 81.91,-41.54\"/>\n<polygon fill=\"black\" stroke=\"black\" points=\"83.61,-38.48 73.28,-36.13 79.89,-44.41 83.61,-38.48\"/>\n<text text-anchor=\"middle\" x=\"128\" y=\"-57.8\" font-family=\"Times,serif\" font-size=\"14.00\" fill=\"red\">n</text>\n</g>\n<!-- physician&#45;fee&#45;freeze_synfuels&#45;corporation&#45;cutback_republican_y -->\n<g id=\"node4\" class=\"node\">\n<title>physician&#45;fee&#45;freeze_synfuels&#45;corporation&#45;cutback_republican_y</title>\n<polygon fill=\"none\" stroke=\"blue\" points=\"202,-36 110,-36 110,0 202,0 202,-36\"/>\n<text text-anchor=\"middle\" x=\"156\" y=\"-14.3\" font-family=\"Times,serif\" font-size=\"14.00\" fill=\"blue\">republican</text>\n</g>\n<!-- physician&#45;fee&#45;freeze_synfuels&#45;corporation&#45;cutback&#45;&gt;physician&#45;fee&#45;freeze_synfuels&#45;corporation&#45;cutback_republican_y -->\n<g id=\"edge3\" class=\"edge\">\n<title>physician&#45;fee&#45;freeze_synfuels&#45;corporation&#45;cutback&#45;&gt;physician&#45;fee&#45;freeze_synfuels&#45;corporation&#45;cutback_republican_y</title>\n<path fill=\"none\" stroke=\"black\" d=\"M177.27,-86.76C173.52,-74.82 168.56,-59.01 164.37,-45.66\"/>\n<polygon fill=\"black\" stroke=\"black\" points=\"167.69,-44.53 161.35,-36.04 161.01,-46.63 167.69,-44.53\"/>\n<text text-anchor=\"middle\" x=\"176.5\" y=\"-57.8\" font-family=\"Times,serif\" font-size=\"14.00\" fill=\"green\">y</text>\n</g>\n<!-- physician&#45;fee&#45;freeze_synfuels&#45;corporation&#45;cutback_republican_? -->\n<g id=\"node5\" class=\"node\">\n<title>physician&#45;fee&#45;freeze_synfuels&#45;corporation&#45;cutback_republican_?</title>\n<polygon fill=\"none\" stroke=\"blue\" points=\"312,-36 220,-36 220,0 312,0 312,-36\"/>\n<text text-anchor=\"middle\" x=\"266\" y=\"-14.3\" font-family=\"Times,serif\" font-size=\"14.00\" fill=\"blue\">republican</text>\n</g>\n<!-- physician&#45;fee&#45;freeze_synfuels&#45;corporation&#45;cutback&#45;&gt;physician&#45;fee&#45;freeze_synfuels&#45;corporation&#45;cutback_republican_? -->\n<g id=\"edge4\" class=\"edge\">\n<title>physician&#45;fee&#45;freeze_synfuels&#45;corporation&#45;cutback&#45;&gt;physician&#45;fee&#45;freeze_synfuels&#45;corporation&#45;cutback_republican_?</title>\n<path fill=\"none\" stroke=\"black\" d=\"M200.6,-86.76C212.81,-74.11 229.2,-57.13 242.52,-43.33\"/>\n<polygon fill=\"black\" stroke=\"black\" points=\"245.13,-45.67 249.55,-36.04 240.09,-40.81 245.13,-45.67\"/>\n<text text-anchor=\"middle\" x=\"236\" y=\"-57.8\" font-family=\"Times,serif\" font-size=\"14.00\" fill=\"orange\">?</text>\n</g>\n<!-- physician&#45;fee&#45;freeze_adoption&#45;of&#45;the&#45;budget&#45;resolution_democrat_y -->\n<g id=\"node7\" class=\"node\">\n<title>physician&#45;fee&#45;freeze_adoption&#45;of&#45;the&#45;budget&#45;resolution_democrat_y</title>\n<polygon fill=\"none\" stroke=\"red\" points=\"414,-36 330,-36 330,0 414,0 414,-36\"/>\n<text text-anchor=\"middle\" x=\"372\" y=\"-14.3\" font-family=\"Times,serif\" font-size=\"14.00\" fill=\"red\">democrat</text>\n</g>\n<!-- physician&#45;fee&#45;freeze_adoption&#45;of&#45;the&#45;budget&#45;resolution&#45;&gt;physician&#45;fee&#45;freeze_adoption&#45;of&#45;the&#45;budget&#45;resolution_democrat_y -->\n<g id=\"edge6\" class=\"edge\">\n<title>physician&#45;fee&#45;freeze_adoption&#45;of&#45;the&#45;budget&#45;resolution&#45;&gt;physician&#45;fee&#45;freeze_adoption&#45;of&#45;the&#45;budget&#45;resolution_democrat_y</title>\n<path fill=\"none\" stroke=\"black\" d=\"M452.37,-86.76C437.09,-73.88 416.48,-56.5 399.96,-42.57\"/>\n<polygon fill=\"black\" stroke=\"black\" points=\"402.11,-39.81 392.21,-36.04 397.6,-45.16 402.11,-39.81\"/>\n<text text-anchor=\"middle\" x=\"434.5\" y=\"-57.8\" font-family=\"Times,serif\" font-size=\"14.00\" fill=\"green\">y</text>\n</g>\n<!-- physician&#45;fee&#45;freeze_adoption&#45;of&#45;the&#45;budget&#45;resolution_democrat_n -->\n<g id=\"node8\" class=\"node\">\n<title>physician&#45;fee&#45;freeze_adoption&#45;of&#45;the&#45;budget&#45;resolution_democrat_n</title>\n<polygon fill=\"none\" stroke=\"red\" points=\"516,-36 432,-36 432,0 516,0 516,-36\"/>\n<text text-anchor=\"middle\" x=\"474\" y=\"-14.3\" font-family=\"Times,serif\" font-size=\"14.00\" fill=\"red\">democrat</text>\n</g>\n<!-- physician&#45;fee&#45;freeze_adoption&#45;of&#45;the&#45;budget&#45;resolution&#45;&gt;physician&#45;fee&#45;freeze_adoption&#45;of&#45;the&#45;budget&#45;resolution_democrat_n -->\n<g id=\"edge7\" class=\"edge\">\n<title>physician&#45;fee&#45;freeze_adoption&#45;of&#45;the&#45;budget&#45;resolution&#45;&gt;physician&#45;fee&#45;freeze_adoption&#45;of&#45;the&#45;budget&#45;resolution_democrat_n</title>\n<path fill=\"none\" stroke=\"black\" d=\"M474,-86.76C474,-74.93 474,-59.32 474,-46.05\"/>\n<polygon fill=\"black\" stroke=\"black\" points=\"477.5,-46.04 474,-36.04 470.5,-46.04 477.5,-46.04\"/>\n<text text-anchor=\"middle\" x=\"479\" y=\"-57.8\" font-family=\"Times,serif\" font-size=\"14.00\" fill=\"red\">n</text>\n</g>\n<!-- physician&#45;fee&#45;freeze_adoption&#45;of&#45;the&#45;budget&#45;resolution_democrat_? -->\n<g id=\"node9\" class=\"node\">\n<title>physician&#45;fee&#45;freeze_adoption&#45;of&#45;the&#45;budget&#45;resolution_democrat_?</title>\n<polygon fill=\"none\" stroke=\"red\" points=\"618,-36 534,-36 534,0 618,0 618,-36\"/>\n<text text-anchor=\"middle\" x=\"576\" y=\"-14.3\" font-family=\"Times,serif\" font-size=\"14.00\" fill=\"red\">democrat</text>\n</g>\n<!-- physician&#45;fee&#45;freeze_adoption&#45;of&#45;the&#45;budget&#45;resolution&#45;&gt;physician&#45;fee&#45;freeze_adoption&#45;of&#45;the&#45;budget&#45;resolution_democrat_? -->\n<g id=\"edge8\" class=\"edge\">\n<title>physician&#45;fee&#45;freeze_adoption&#45;of&#45;the&#45;budget&#45;resolution&#45;&gt;physician&#45;fee&#45;freeze_adoption&#45;of&#45;the&#45;budget&#45;resolution_democrat_?</title>\n<path fill=\"none\" stroke=\"black\" d=\"M495.63,-86.76C510.91,-73.88 531.52,-56.5 548.04,-42.57\"/>\n<polygon fill=\"black\" stroke=\"black\" points=\"550.4,-45.16 555.79,-36.04 545.89,-39.81 550.4,-45.16\"/>\n<text text-anchor=\"middle\" x=\"539\" y=\"-57.8\" font-family=\"Times,serif\" font-size=\"14.00\" fill=\"orange\">?</text>\n</g>\n<!-- physician&#45;fee&#45;freeze_mx&#45;missile_democrat_n -->\n<g id=\"node11\" class=\"node\">\n<title>physician&#45;fee&#45;freeze_mx&#45;missile_democrat_n</title>\n<polygon fill=\"none\" stroke=\"red\" points=\"720,-36 636,-36 636,0 720,0 720,-36\"/>\n<text text-anchor=\"middle\" x=\"678\" y=\"-14.3\" font-family=\"Times,serif\" font-size=\"14.00\" fill=\"red\">democrat</text>\n</g>\n<!-- physician&#45;fee&#45;freeze_mx&#45;missile&#45;&gt;physician&#45;fee&#45;freeze_mx&#45;missile_democrat_n -->\n<g id=\"edge10\" class=\"edge\">\n<title>physician&#45;fee&#45;freeze_mx&#45;missile&#45;&gt;physician&#45;fee&#45;freeze_mx&#45;missile_democrat_n</title>\n<path fill=\"none\" stroke=\"black\" d=\"M722.12,-86.76C714.12,-74.47 703.44,-58.07 694.6,-44.49\"/>\n<polygon fill=\"black\" stroke=\"black\" points=\"697.49,-42.51 689.1,-36.04 691.62,-46.33 697.49,-42.51\"/>\n<text text-anchor=\"middle\" x=\"715\" y=\"-57.8\" font-family=\"Times,serif\" font-size=\"14.00\" fill=\"red\">n</text>\n</g>\n<!-- physician&#45;fee&#45;freeze_mx&#45;missile_republican_? -->\n<g id=\"node12\" class=\"node\">\n<title>physician&#45;fee&#45;freeze_mx&#45;missile_republican_?</title>\n<polygon fill=\"none\" stroke=\"blue\" points=\"830,-36 738,-36 738,0 830,0 830,-36\"/>\n<text text-anchor=\"middle\" x=\"784\" y=\"-14.3\" font-family=\"Times,serif\" font-size=\"14.00\" fill=\"blue\">republican</text>\n</g>\n<!-- physician&#45;fee&#45;freeze_mx&#45;missile&#45;&gt;physician&#45;fee&#45;freeze_mx&#45;missile_republican_? -->\n<g id=\"edge11\" class=\"edge\">\n<title>physician&#45;fee&#45;freeze_mx&#45;missile&#45;&gt;physician&#45;fee&#45;freeze_mx&#45;missile_republican_?</title>\n<path fill=\"none\" stroke=\"black\" d=\"M744.6,-86.76C751.68,-74.58 761.1,-58.38 768.95,-44.88\"/>\n<polygon fill=\"black\" stroke=\"black\" points=\"772.09,-46.45 774.09,-36.04 766.04,-42.93 772.09,-46.45\"/>\n<text text-anchor=\"middle\" x=\"768\" y=\"-57.8\" font-family=\"Times,serif\" font-size=\"14.00\" fill=\"orange\">?</text>\n</g>\n<!-- physician&#45;fee&#45;freeze_mx&#45;missile_democrat_y -->\n<g id=\"node13\" class=\"node\">\n<title>physician&#45;fee&#45;freeze_mx&#45;missile_democrat_y</title>\n<polygon fill=\"none\" stroke=\"red\" points=\"932,-36 848,-36 848,0 932,0 932,-36\"/>\n<text text-anchor=\"middle\" x=\"890\" y=\"-14.3\" font-family=\"Times,serif\" font-size=\"14.00\" fill=\"red\">democrat</text>\n</g>\n<!-- physician&#45;fee&#45;freeze_mx&#45;missile&#45;&gt;physician&#45;fee&#45;freeze_mx&#45;missile_democrat_y -->\n<g id=\"edge12\" class=\"edge\">\n<title>physician&#45;fee&#45;freeze_mx&#45;missile&#45;&gt;physician&#45;fee&#45;freeze_mx&#45;missile_democrat_y</title>\n<path fill=\"none\" stroke=\"black\" d=\"M766.7,-86.97C791,-73.58 824.27,-55.24 850.12,-40.98\"/>\n<polygon fill=\"black\" stroke=\"black\" points=\"851.87,-44.02 858.93,-36.13 848.49,-37.89 851.87,-44.02\"/>\n<text text-anchor=\"middle\" x=\"830.5\" y=\"-57.8\" font-family=\"Times,serif\" font-size=\"14.00\" fill=\"green\">y</text>\n</g>\n</g>\n</svg>\n",
      "text/plain": [
       "<graphviz.graphs.Digraph at 0x7f0e1c6c88b0>"
      ]
     },
     "metadata": {},
     "output_type": "display_data"
    }
   ],
   "source": [
    "DT.visualize_party_classification()"
   ]
  },
  {
   "cell_type": "code",
   "execution_count": 11,
   "id": "fc8bad1b",
   "metadata": {},
   "outputs": [
    {
     "data": {
      "text/plain": [
       "True     80\n",
       "False     3\n",
       "dtype: int64"
      ]
     },
     "execution_count": 11,
     "metadata": {},
     "output_type": "execute_result"
    }
   ],
   "source": [
    "y_pred = DT.predict(X_test)\n",
    "(y_pred == y_test.reset_index(drop=True)).value_counts()"
   ]
  },
  {
   "cell_type": "code",
   "execution_count": 12,
   "id": "c3ab8c26",
   "metadata": {},
   "outputs": [
    {
     "data": {
      "text/plain": [
       "True     318\n",
       "False     14\n",
       "dtype: int64"
      ]
     },
     "execution_count": 12,
     "metadata": {},
     "output_type": "execute_result"
    }
   ],
   "source": [
    "y_pred_train = DT.predict(X_train)\n",
    "(y_pred_train == y_train.reset_index(drop=True)).value_counts()"
   ]
  },
  {
   "cell_type": "markdown",
   "id": "c5419e09",
   "metadata": {},
   "source": [
    "### 2.2.2 A Priori Classifier"
   ]
  },
  {
   "cell_type": "code",
   "execution_count": 13,
   "id": "9c916477",
   "metadata": {},
   "outputs": [],
   "source": [
    "class APrioriClassifier:\n",
    "    \"\"\"\n",
    "    Dummy Classifier not considering any X data.\n",
    "    \"\"\"   \n",
    "    def __init__(self, method=\"mode\"):\n",
    "        \"\"\"\n",
    "        Instantiates the classifier.\n",
    "        \"\"\"\n",
    "        if method != \"mode\":\n",
    "            raise Exception(\"Invalid method. Accepted values are [\\\"mode\\\"].\")\n",
    "        self._method = method\n",
    "        self._decision = None\n",
    "\n",
    "    def _dummy_decision(self, y):\n",
    "        if self._method == \"mode\":\n",
    "            return y.mode()[0]\n",
    "        else:\n",
    "            raise Exception(\"Invalid method. Accepted values are [\\\"mode\\\"].\")\n",
    "            \n",
    "    def fit(self, X, y):\n",
    "        \"\"\"\n",
    "        Classifier based only on y-value's mode of the train data\n",
    "        \"\"\"\n",
    "        self._decision = self._dummy_decision(y)\n",
    "        \n",
    "    def predict(self,X):\n",
    "        if self._decision is None:\n",
    "                raise Exception(\"The model was not trained yet. Run fit method first.\")\n",
    "        y_predicted = []\n",
    "        for index in X.index:\n",
    "            y_predicted.append(self._decision)\n",
    "        return pd.Series(y_predicted)\n",
    "        "
   ]
  },
  {
   "cell_type": "code",
   "execution_count": 14,
   "id": "faea03df",
   "metadata": {},
   "outputs": [],
   "source": [
    "APC = APrioriClassifier()\n",
    "APC.fit(X_train, y_train)"
   ]
  },
  {
   "cell_type": "code",
   "execution_count": 15,
   "id": "9744f6f8",
   "metadata": {},
   "outputs": [
    {
     "data": {
      "text/plain": [
       "True     47\n",
       "False    36\n",
       "dtype: int64"
      ]
     },
     "execution_count": 15,
     "metadata": {},
     "output_type": "execute_result"
    }
   ],
   "source": [
    "y_pred_APC = APC.predict(X_test)\n",
    "(y_pred_APC == y_test.reset_index(drop=True)).value_counts()"
   ]
  },
  {
   "cell_type": "code",
   "execution_count": 16,
   "id": "8401a6b2",
   "metadata": {},
   "outputs": [
    {
     "data": {
      "text/plain": [
       "True     210\n",
       "False    122\n",
       "dtype: int64"
      ]
     },
     "execution_count": 16,
     "metadata": {},
     "output_type": "execute_result"
    }
   ],
   "source": [
    "y_pred_APCtrain = APC.predict(X_train)\n",
    "(y_pred_APCtrain == y_train.reset_index(drop=True)).value_counts()"
   ]
  },
  {
   "cell_type": "markdown",
   "id": "941e2592",
   "metadata": {},
   "source": [
    "## 2.3 Comparison"
   ]
  },
  {
   "cell_type": "markdown",
   "id": "235b78c9",
   "metadata": {},
   "source": [
    "#### 2.3.1 Accuracy Rate"
   ]
  },
  {
   "cell_type": "code",
   "execution_count": 17,
   "id": "c3eaead0",
   "metadata": {},
   "outputs": [
    {
     "name": "stdout",
     "output_type": "stream",
     "text": [
      "The accuracy of the a priori classifier was 56.63%\n",
      "The accuracy of the decision tree classifier was 96.39%\n"
     ]
    }
   ],
   "source": [
    "# A Priori Classifier\n",
    "y_predict_apc = APC.predict(X_test)\n",
    "accuracy_apc = (y_predict_apc == y_test.reset_index(drop=True))\n",
    "accuracy_apc = accuracy_apc.sum() / len(accuracy_apc)\n",
    "print(f\"The accuracy of the a priori classifier was {accuracy_apc*100:.2f}%\")\n",
    "\n",
    "# Decision Tree Classifier\n",
    "y_predict_dt = DT.predict(X_test)\n",
    "accuracy_dt = (y_predict_dt == y_test.reset_index(drop=True))\n",
    "accuracy_dt = accuracy_dt.sum() / len(accuracy_dt)\n",
    "print(f\"The accuracy of the decision tree classifier was {accuracy_dt*100:.2f}%\")"
   ]
  },
  {
   "cell_type": "markdown",
   "id": "f81f3032",
   "metadata": {},
   "source": [
    "#### 2.3.2 Confusion Matrix"
   ]
  },
  {
   "cell_type": "code",
   "execution_count": 18,
   "id": "52543719",
   "metadata": {},
   "outputs": [],
   "source": [
    "labels = ['democrat', 'republican']\n",
    "\n",
    "# A Priori Classifier\n",
    "confusion_matrix_apc = confusion_matrix(y_true=y_test.reset_index(drop=True), y_pred=y_predict_apc)\n",
    "plt.figure()\n",
    "ax = sns.heatmap(confusion_matrix_apc, \n",
    "                 annot=True, \n",
    "                 xticklabels=labels, \n",
    "                 yticklabels=labels,\n",
    "                 cmap=sns.color_palette(\"Reds\", 8))\n",
    "ax.set(xlabel=\"Predicted label\", \n",
    "       ylabel=\"Right label\",\n",
    "       title=\"A priori\")\n",
    "plt.yticks(rotation=0)\n",
    "plt.xticks(rotation=90)\n",
    "plt.savefig(\"confusion_matrix_a_priori.png\", bbox_inches='tight', dpi=300)\n",
    "plt.close()\n",
    "\n",
    "# Decision Tree Classifier\n",
    "confusion_matrix_dt = confusion_matrix(y_true=y_test.reset_index(drop=True), y_pred=y_predict_dt)\n",
    "plt.figure()\n",
    "ax = sns.heatmap(confusion_matrix_dt, \n",
    "                 annot=True, \n",
    "                 xticklabels=labels, \n",
    "                 yticklabels=labels,\n",
    "                 cmap=sns.color_palette(\"Blues\", 8))\n",
    "ax.set(xlabel=\"Predicted label\",\n",
    "       ylabel=\"Right label\",\n",
    "       title=\"Árvore de decisão\")\n",
    "plt.yticks(rotation=0)\n",
    "plt.xticks(rotation=90)\n",
    "ax.get_figure().savefig(\"confusion_matrix_decision_tree.png\", bbox_inches='tight', dpi=300)\n",
    "plt.close()"
   ]
  },
  {
   "cell_type": "markdown",
   "id": "66252562",
   "metadata": {},
   "source": [
    "#### 2.3.3 Mean Squared Error (MSE)"
   ]
  },
  {
   "cell_type": "code",
   "execution_count": 19,
   "id": "d88a0434",
   "metadata": {},
   "outputs": [
    {
     "name": "stdout",
     "output_type": "stream",
     "text": [
      "The MSE of the a priori classifier was 43.37%\n",
      "The MSE of the decision tree classifier was 3.61%\n"
     ]
    }
   ],
   "source": [
    "# A Priori Classifier\n",
    "mse_apc = (y_predict_apc != y_test.reset_index(drop=True))\n",
    "mse_apc = mse_apc.sum() / len(mse_apc)\n",
    "print(f\"The MSE of the a priori classifier was {mse_apc*100:.2f}%\")\n",
    "\n",
    "# Decision Tree Classifier\n",
    "mse_dt = (y_predict_dt != y_test.reset_index(drop=True))\n",
    "mse_dt = mse_dt.sum() / len(mse_dt)\n",
    "print(f\"The MSE of the decision tree classifier was {mse_dt*100:.2f}%\")"
   ]
  },
  {
   "cell_type": "markdown",
   "id": "e8e17330",
   "metadata": {},
   "source": [
    "#### 2.3.4 Kappa Coefficient\n",
    "\n",
    "For binary classifications, the Kappa Coefficient can be written as\n",
    "\n",
    "$$\n",
    "k = \\frac{2 \\times (TP \\times TN - FN \\times FP)}{(TP + FP) \\times (FP + TN) + (TP + FN) \\times (FN + TN)},\n",
    "$$\n",
    "where TP are the true positives, FP are the false positives, TN are the true negatives, and FN are the false negatives."
   ]
  },
  {
   "cell_type": "code",
   "execution_count": 20,
   "id": "f3571ef0",
   "metadata": {},
   "outputs": [],
   "source": [
    "def get_binary_kappa(confusion_matrix):\n",
    "    \"\"\"\n",
    "    Evaluate the Kappa coefficient for binary classifications.\n",
    "\n",
    "    :arg confusion_matrix: The confusion matrix of the classifier.\n",
    "    :type confusion_matrix: A 2x2 matrix.\n",
    "    :return: Kappa coefficient.\n",
    "    :return type: Float.\n",
    "    \"\"\"\n",
    "    tp = confusion_matrix[1][1]\n",
    "    tn = confusion_matrix[0][0]\n",
    "    fn = confusion_matrix[1][0]\n",
    "    fp = confusion_matrix[0][1]\n",
    "    kappa = (2 * (tp * tn - fn * fp)) / ((tp + fp) * (fp + tn) + (tp + fn) * (fn + tn))\n",
    "    return kappa"
   ]
  },
  {
   "cell_type": "code",
   "execution_count": 21,
   "id": "12491d38",
   "metadata": {},
   "outputs": [
    {
     "name": "stdout",
     "output_type": "stream",
     "text": [
      "Kappa coefficient for the a priori classifier: 0.0000\n",
      "Kappa coefficient for the decision tree classifier: 0.9271\n"
     ]
    }
   ],
   "source": [
    "kappa_apc = get_binary_kappa(confusion_matrix_apc)\n",
    "kappa_dt = get_binary_kappa(confusion_matrix_dt)\n",
    "print(f\"Kappa coefficient for the a priori classifier: {kappa_apc:.4f}\")\n",
    "print(f\"Kappa coefficient for the decision tree classifier: {kappa_dt:.4f}\")"
   ]
  },
  {
   "cell_type": "markdown",
   "id": "5dd616f6",
   "metadata": {},
   "source": [
    "Or we can use sklearn"
   ]
  },
  {
   "cell_type": "code",
   "execution_count": 22,
   "id": "81f6bb3d",
   "metadata": {},
   "outputs": [
    {
     "name": "stdout",
     "output_type": "stream",
     "text": [
      "Kappa coefficient for the a priori classifier: 0.0000\n",
      "Kappa coefficient for the decision tree classifier: 0.9271\n"
     ]
    }
   ],
   "source": [
    "kappa_apc = cohen_kappa_score(y_test.reset_index(drop=True), y_predict_apc)\n",
    "kappa_dt = cohen_kappa_score(y_test.reset_index(drop=True), y_predict_dt)\n",
    "print(f\"Kappa coefficient for the a priori classifier: {kappa_apc:.4f}\")\n",
    "print(f\"Kappa coefficient for the decision tree classifier: {kappa_dt:.4f}\")"
   ]
  },
  {
   "cell_type": "markdown",
   "id": "86c050a4",
   "metadata": {},
   "source": [
    "#### 2.4 Improve Decision Tree Classifier"
   ]
  },
  {
   "cell_type": "markdown",
   "id": "6ff5e5b6",
   "metadata": {},
   "source": [
    "#### 2.4.1 Hyperparameter tuning (Maximum depth)"
   ]
  },
  {
   "cell_type": "code",
   "execution_count": 23,
   "id": "2043ebad",
   "metadata": {},
   "outputs": [
    {
     "data": {
      "image/png": "[encoded data removed]",
      "text/plain": [
       "<Figure size 640x480 with 1 Axes>"
      ]
     },
     "metadata": {},
     "output_type": "display_data"
    }
   ],
   "source": [
    "MAX_DEPTH = X_test.shape[1] + 1\n",
    "\n",
    "x_tunning_test = X_test.iloc[0:X_test.shape[0] // 2]\n",
    "y_tunning_test = y_test.iloc[0:X_test.shape[0] // 2]\n",
    "x_tunning_cross_validation = X_test.iloc[X_test.shape[0] // 2:]\n",
    "y_tunning_cross_validation = y_test.iloc[X_test.shape[0] // 2:]\n",
    "\n",
    "mse_all = []\n",
    "for depth in range(1, MAX_DEPTH):\n",
    "    current_DT = DecisionTreeClassifier(max_depth=depth)\n",
    "    current_DT.fit(X_train, y_train)\n",
    "    y_predict = current_DT.predict(x_tunning_cross_validation)\n",
    "    mse = (y_predict != y_tunning_cross_validation.reset_index(drop=True))\n",
    "    mse = mse.sum() / len(mse)\n",
    "    mse_all.append(mse)\n",
    "\n",
    "plt.plot(range(1, MAX_DEPTH), mse_all)\n",
    "plt.xlabel('Máxima Profundidade')\n",
    "plt.ylabel('Erro Quadrático Médio')\n",
    "plt.ylim(-0.05, 1.05)\n",
    "plt.xticks(range(1, MAX_DEPTH))\n",
    "plt.grid()\n",
    "plt.savefig('max_depth_tunning.png', dpi=300)"
   ]
  }
 ],
 "metadata": {
  "kernelspec": {
   "display_name": "Python 3.9.7 ('env': venv)",
   "language": "python",
   "name": "python3"
  },
  "language_info": {
   "codemirror_mode": {
    "name": "ipython",
    "version": 3
   },
   "file_extension": ".py",
   "mimetype": "text/x-python",
   "name": "python",
   "nbconvert_exporter": "python",
   "pygments_lexer": "ipython3",
   "version": "3.9.7"
  },
  "vscode": {
   "interpreter": {
    "hash": "f08e294dfb818fbc4b4d310b8ae94f4645971efef1356039532a8123c8ea7bae"
   }
  }
 },
 "nbformat": 4,
 "nbformat_minor": 5
}
