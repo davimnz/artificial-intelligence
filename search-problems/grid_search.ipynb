{
 "cells": [
  {
   "cell_type": "markdown",
   "id": "76fdfe6e-5419-49f9-9ad4-edeba06ec51f",
   "metadata": {
    "tags": []
   },
   "source": [
    "# Laboratório 1 – Projeto Buscas\n",
    "\n",
    "**Instituto Tecnológico de Aeronáutica – ITA**\n",
    "\n",
    "**Inteligência Artificial – CMC-15**\n",
    "\n",
    "**Professores:** \n",
    "\n",
    "Paulo André Castro\n",
    "\n",
    "Paulo Marcelo Tasinaffo\n",
    "\n",
    "**Alunos:**\n",
    "\n",
    "Álvaro Tedeschi Neto\n",
    "\n",
    "Davi Muniz de Vasconcelos\n",
    "\n",
    "Gabriel Henrique Gobi\n",
    "\n",
    "Thiago Lopes de Araujo\n",
    "\n",
    "## Tarefa 2.1\n",
    "\n",
    "### Grid Search\n",
    "\n",
    "Crie um agente capaz de encontrar o menor caminho entre os dois pontos amarelos: Início: (0,0) e Fim: (20,23). Os movimentos possíveis são Norte, Sul, Leste, Oeste e tem mesmo custo. As células em preto são inacessíveis para o agente, ele não pode entrar em tais células, nem sair do tabuleiro (grid), qualquer tentativa neste sentido faz com que ele permaneça na mesma posição. Modele, implemente e resolva o problema utilizando um dos métodos de busca para\n",
    "encontrar caminhos vistos em sala.\n",
    "\n",
    "---"
   ]
  },
  {
   "cell_type": "code",
   "execution_count": 13,
   "id": "8cb1ad6a-5add-4e32-9496-f91e751951f7",
   "metadata": {},
   "outputs": [],
   "source": [
    "# Import de bibliotecas\n",
    "import numpy as np\n",
    "import matplotlib.pyplot as plt\n",
    "from matplotlib.colors import ListedColormap\n",
    "import heapq\n",
    "from math import inf, sqrt"
   ]
  },
  {
   "cell_type": "code",
   "execution_count": 14,
   "id": "16d0f3f5-b46a-46f5-a6b6-b574b1504766",
   "metadata": {},
   "outputs": [
    {
     "data": {
      "image/png": "[encoded data removed]",
      "text/plain": [
       "<Figure size 500x500 with 1 Axes>"
      ]
     },
     "metadata": {},
     "output_type": "display_data"
    }
   ],
   "source": [
    "# Representando o grid como uma matriz de 0's e 1's com 1's representando obstáculos\n",
    "\n",
    "grid = np.array([[0, 0, 0, 0, 0, 0, 0, 0, 0, 0, 1, 0, 0, 0, 1, 0, 0, 0, 0, 0, 0, 0, 0, 1],\n",
    "                [0, 0, 0, 0, 1, 0, 0, 0, 0, 0, 1, 0, 1, 0, 0, 0, 0, 0, 0, 1, 0, 0, 0, 1],\n",
    "                [0, 0, 0, 1, 0, 0, 0, 0, 0, 0, 0, 0, 0, 1, 1, 0, 0, 1, 0, 0, 0, 0, 0, 0],\n",
    "                [0, 0, 0, 1, 1, 1, 0, 0, 1, 0, 0, 0, 0, 0, 0, 0, 0, 0, 0, 1, 0, 0, 0, 0],\n",
    "                [1, 1, 0, 0, 0, 0, 0, 0, 1, 0, 0, 0, 0, 0, 0, 0, 0, 0, 0, 0, 0, 0, 1, 0],\n",
    "                [0, 0, 0, 0, 0, 0, 0, 0, 0, 0, 0, 0, 0, 0, 0, 0, 0, 0, 0, 0, 0, 0, 0, 1],\n",
    "                [0, 0, 0, 0, 0, 1, 0, 0, 0, 0, 1, 1, 0, 0, 0, 0, 0, 0, 0, 0, 0, 1, 0, 0],\n",
    "                [0, 0, 1, 0, 0, 0, 0, 1, 0, 0, 0, 1, 0, 0, 0, 0, 0, 0, 0, 0, 0, 0, 0, 0],\n",
    "                [1, 1, 0, 0, 0, 0, 0, 0, 0, 0, 1, 0, 0, 0, 0, 0, 0, 0, 0, 0, 1, 0, 0, 0],\n",
    "                [0, 1, 1, 0, 0, 0, 1, 0, 0, 0, 0, 1, 0, 0, 0, 0, 0, 1, 0, 0, 0, 0, 1, 0],\n",
    "                [0, 0, 1, 1, 0, 0, 1, 0, 0, 0, 0, 0, 0, 0, 0, 0, 0, 0, 0, 0, 0, 0, 0, 0],\n",
    "                [0, 0, 0, 0, 0, 0, 1, 0, 0, 1, 0, 1, 0, 0, 0, 0, 0, 0, 0, 0, 0, 1, 0, 1],\n",
    "                [0, 0, 0, 0, 0, 1, 0, 0, 0, 1, 0, 0, 0, 0, 0, 0, 1, 1, 1, 0, 0, 1, 0, 0],\n",
    "                [0, 1, 0, 0, 0, 0, 0, 0, 0, 0, 1, 0, 0, 0, 1, 0, 0, 0, 0, 0, 0, 0, 0, 1],\n",
    "                [1, 0, 0, 0, 0, 0, 0, 0, 0, 0, 0, 1, 1, 0, 0, 0, 0, 0, 0, 0, 0, 0, 0, 0],\n",
    "                [0, 0, 1, 0, 0, 0, 1, 0, 0, 1, 0, 0, 0, 1, 0, 0, 1, 0, 1, 0, 0, 0, 1, 0],\n",
    "                [0, 0, 0, 0, 0, 0, 0, 0, 1, 0, 0, 0, 0, 0, 0, 0, 0, 0, 0, 0, 0, 1, 0, 0],\n",
    "                [0, 1, 1, 0, 0, 0, 0, 1, 0, 1, 0, 0, 0, 0, 0, 0, 0, 0, 1, 1, 1, 0, 1, 0],\n",
    "                [0, 0, 0, 0, 1, 0, 0, 1, 0, 1, 0, 0, 1, 0, 0, 0, 0, 0, 0, 0, 0, 1, 0, 0],\n",
    "                [0, 0, 0, 0, 0, 0, 0, 0, 0, 0, 0, 0, 0, 0, 0, 0, 0, 0, 0, 0, 0, 0, 0, 0],\n",
    "                [0, 0, 0, 0, 0, 0, 0, 0, 0, 0, 1, 0, 0, 0, 1, 0, 0, 0, 0, 0, 1, 0, 0, 0]])\n",
    "\n",
    "grid = np.copy(grid)\n",
    "grid[0, 0] = 2 # start\n",
    "grid[20, 23] = 2 # goal\n",
    "newcolors = np.array([[1, 1, 1, 1],\n",
    "                      [0, 0, 0, 1],\n",
    "                      [1, 1, 0, 1]])\n",
    "newcmp = ListedColormap(newcolors)\n",
    "fig, ax = plt.subplots(figsize=(5, 5))\n",
    "ax.matshow(grid, cmap=newcmp)\n",
    "ax.set_xlim([-0.5, 23.5])\n",
    "ax.xaxis.set_ticks(np.arange(-0.5, 24.5, 1))\n",
    "ax.xaxis.set_ticklabels([' ']*25)\n",
    "ax.set_xlabel('x / j')\n",
    "ax.set_ylim([20.5, -0.5])\n",
    "ax.yaxis.set_ticks(np.arange(-0.5, 21.5, 1))\n",
    "ax.yaxis.set_ticklabels([' ']*22)\n",
    "ax.set_ylabel('y / i')\n",
    "ax.tick_params(top = False, left = False, bottom = False)\n",
    "ax.grid()\n",
    "# fig.savefig('grid_search_problem.png', dpi=300, bbox_inches='tight')"
   ]
  },
  {
   "cell_type": "markdown",
   "id": "e12fcc0a-0edf-4367-b088-ab8ae347f9cc",
   "metadata": {},
   "source": [
    "Modelando como um problema de busca na matriz acima, podemos formular como:\n",
    "\n",
    "- **Estados**: posições $(j, i)$ , com $0 \\leq j \\leq 23$ e $0 \\leq i \\leq 20$\n",
    "\n",
    "- **Operadores**:\\\n",
    "$(j, i) \\rightarrow (j, i+1)$ (Norte)                 \n",
    "$(j, i) \\rightarrow (j, i-1)$ (Sul)\\\n",
    "$(j, i) \\rightarrow (j+1, i)$ (Leste)\\\n",
    "$(j, i) \\rightarrow (j-1, i)$ (Oeste)\n",
    "\n",
    "- **Teste do objetivo**: atingir a posição (20, 23)\n",
    "                  \n",
    "- **Custo da trajetória**: 1 por movimento\n",
    "\n",
    "Agora vamos escrever uma estrutura de dados para a representação dos estados na implementação do algoritmo de busca:"
   ]
  },
  {
   "cell_type": "code",
   "execution_count": 15,
   "id": "a173dad8-74d6-4733-a82c-06ebfa378524",
   "metadata": {},
   "outputs": [],
   "source": [
    "class Node():\n",
    "    \"\"\"\n",
    "    Nó para representar um estado da árvore de busca no grid.\n",
    "    \"\"\"\n",
    "    def __init__(self, j=0, i=0):\n",
    "        \"\"\"\n",
    "        Cria um nó para um estado da árvore de busca no grid.\n",
    "\n",
    "        :param i: linha do nó no grid.\n",
    "        :type i: int.\n",
    "        :param j: coluna do nó no grid.\n",
    "        :type j: int.\n",
    "        \"\"\"\n",
    "        self.i = i\n",
    "        self.j = j\n",
    "        self.f = inf\n",
    "        self.g = inf\n",
    "        self.parent = None\n",
    "\n",
    "    def get_position(self):\n",
    "        \"\"\"\n",
    "        Retorna a posição do nó no grid de ocupação.\n",
    "\n",
    "        :return: (j, i), coluna e linha, respectivamente.\n",
    "        :rtype: 2D int tuple.\n",
    "        \"\"\"\n",
    "        return self.j, self.i\n",
    "       \n",
    "    def __lt__(self, another_node):\n",
    "        \"\"\"\n",
    "        Operador de comparação para ordenação na priority queue.\n",
    "        \"\"\"\n",
    "        if self.i < another_node.i:\n",
    "            return True\n",
    "        if self.j < another_node.j:\n",
    "            return True\n",
    "        return False"
   ]
  },
  {
   "cell_type": "markdown",
   "id": "5bf0fb4d-a901-4475-821b-6dbd8cabd0ff",
   "metadata": {},
   "source": [
    "O algoritmo a ser utilizado será o A*. Para um grid 4-conectado uma boa heurística é a distância de Manhattan, uma vez que é consistente:\n",
    "\n",
    "$$ h(current) \\leq h(successor) + cost(current, successor) = h(successor) + 1 = (h(current) \\pm 1) + 1$$\n",
    "\n",
    "Além disso, pode-se provar pela desigualdade triangular que a distância de Manhattan como heurística domina a heurística de distância euclideana. \n",
    "\n",
    "Para a implementação, será usado uma heap de mínimo para a obtenção do nó da árvore já encontrado com o menor valor de $f'(n)$ a fim de conseguir recuperá-lo em $O(1)$. Além disso, nós já \"fechados\", isto é, que foram inclusos no caminho montado não serão incluídos novamente na heap."
   ]
  },
  {
   "cell_type": "code",
   "execution_count": 16,
   "id": "c1d0f5db-a80d-4372-8c33-4db8c82223d8",
   "metadata": {},
   "outputs": [],
   "source": [
    "def a_star(grid, start_position, goal_position):\n",
    "        \"\"\"\n",
    "        Algoritmo A*.\n",
    "\n",
    "        :param start_position: posição inicial do grid (j, i).\n",
    "        :type start_position: tuple.\n",
    "        :param goal_position: posição objetivo do grid (j, i).\n",
    "        :type goal_position: tuple.\n",
    "        :return: array de nós representando o caminho encontrado pela busca e o custo.\n",
    "        :rtype: array de Node's e float.\n",
    "        \"\"\"\n",
    "        \n",
    "        pq = []  # lista vazia para a heap\n",
    "        visited = np.copy(grid)\n",
    "        \n",
    "        start = Node(*start_position)  # start Node\n",
    "        goal = Node(*goal_position)  # goal Node\n",
    "        \n",
    "        j, i = start.get_position()\n",
    "        visited[i, j] = 1\n",
    "\n",
    "        start.g = 0\n",
    "        start.f = manhattan_dist(start, goal)\n",
    "        \n",
    "        heapq.heappush(pq, (start.f, start))    \n",
    "        count = 1\n",
    "        \n",
    "        while pq:\n",
    "    \n",
    "            cost, node = heapq.heappop(pq)\n",
    "            j, i = node.get_position()\n",
    "            if (j, i) == goal_position:\n",
    "                path = []\n",
    "                current_node = node.parent\n",
    "                while not current_node.parent is None:\n",
    "                    path.append(current_node)\n",
    "                    current_node = current_node.parent\n",
    "                print(f'End of A* execution with {count} nodes included in the search tree.')\n",
    "                return path, cost\n",
    "            \n",
    "            visited[i, j] = 1\n",
    "            \n",
    "            for dj, di in [(0, +1), (0, -1), (+1, 0), (-1, 0)]:\n",
    "                \n",
    "                if (j+dj >= 0 and j+dj <= 23) and \\\n",
    "                (i+di >= 0 and i+di <= 20) and \\\n",
    "                (grid[i+di, j+dj] != 1): \n",
    "                    successor = Node(j+dj, i+di)\n",
    "                else:\n",
    "                    successor = Node(j, i)\n",
    "                \n",
    "                j_s, i_s = successor.get_position()\n",
    "                if visited[i_s, j_s] != 1:\n",
    "                        successor.g = node.g + 1\n",
    "                        successor.f = successor.g + manhattan_dist(successor, goal)\n",
    "                        successor.parent = node\n",
    "                        count += 1\n",
    "                        heapq.heappush(pq, (successor.f, successor))\n",
    "                                    \n",
    "        return [], inf\n",
    "    \n",
    "def manhattan_dist(nodeA, nodeB):\n",
    "    j_A, i_A = nodeA.get_position()\n",
    "    j_B, i_B = nodeB.get_position()\n",
    "    return np.abs(j_A-j_B) + np.abs(i_A-i_B)"
   ]
  },
  {
   "cell_type": "code",
   "execution_count": 17,
   "id": "ae6c7c49-2ddc-4a86-af5f-b944cdd5aee5",
   "metadata": {},
   "outputs": [
    {
     "name": "stdout",
     "output_type": "stream",
     "text": [
      "End of A* execution with 806 nodes included in the search tree.\n"
     ]
    }
   ],
   "source": [
    "start_position = (0, 0)\n",
    "goal_position = (23, 20)\n",
    "path, cost = a_star(grid, start_position, goal_position)"
   ]
  },
  {
   "cell_type": "code",
   "execution_count": 18,
   "id": "5694bcf0-5a26-411f-abed-0aba83f13c79",
   "metadata": {
    "tags": []
   },
   "outputs": [
    {
     "data": {
      "image/png": "[encoded data removed]",
      "text/plain": [
       "<Figure size 500x500 with 1 Axes>"
      ]
     },
     "metadata": {},
     "output_type": "display_data"
    }
   ],
   "source": [
    "for node in path:\n",
    "    j, i = node.get_position()\n",
    "    grid[i, j] = 4\n",
    "newcolors = np.array([[1, 1, 1, 1],\n",
    "                      [0, 0, 0, 1],\n",
    "                      [1, 1, 0, 1],\n",
    "                      [248/255, 248/255, 140/255, 1]])\n",
    "newcmp = ListedColormap(newcolors)\n",
    "fig, ax = plt.subplots(figsize=(5, 5))\n",
    "ax.matshow(grid, cmap=newcmp)\n",
    "ax.set_xlim([-0.5, 23.5])\n",
    "ax.xaxis.set_ticks(np.arange(-0.5, 24.5, 1))\n",
    "ax.xaxis.set_ticklabels([' ']*25)\n",
    "ax.set_xlabel('x / j')\n",
    "ax.set_ylim([20.5, -0.5])\n",
    "ax.yaxis.set_ticks(np.arange(-0.5, 21.5, 1))\n",
    "ax.yaxis.set_ticklabels([' ']*22)\n",
    "ax.set_ylabel('y / i')\n",
    "ax.tick_params(top = False, left = False, bottom = False)\n",
    "ax.grid()\n",
    "# fig.savefig('grid_search_solution.png', dpi=300, bbox_inches='tight')"
   ]
  }
 ],
 "metadata": {
  "kernelspec": {
   "display_name": "Python 3.9.7 ('env': venv)",
   "language": "python",
   "name": "python3"
  },
  "language_info": {
   "codemirror_mode": {
    "name": "ipython",
    "version": 3
   },
   "file_extension": ".py",
   "mimetype": "text/x-python",
   "name": "python",
   "nbconvert_exporter": "python",
   "pygments_lexer": "ipython3",
   "version": "3.9.7"
  },
  "vscode": {
   "interpreter": {
    "hash": "f08e294dfb818fbc4b4d310b8ae94f4645971efef1356039532a8123c8ea7bae"
   }
  }
 },
 "nbformat": 4,
 "nbformat_minor": 5
}
