{
 "cells": [
  {
   "cell_type": "markdown",
   "id": "0ec3e156-95ae-47dc-8b96-d2100dbf11eb",
   "metadata": {
    "jp-MarkdownHeadingCollapsed": true,
    "tags": []
   },
   "source": [
    "# Students\n",
    "\n",
    "Alvaro Tedeschi Neto\\\n",
    "Davi Muniz Vasconcelos\\\n",
    "Gabriel Henrique Gobi\\\n",
    "Thiago Lopes de Araujo"
   ]
  },
  {
   "cell_type": "markdown",
   "id": "4e434a46-426d-4e30-8f2e-89d2e9620c12",
   "metadata": {
    "tags": []
   },
   "source": [
    "# Question 01"
   ]
  },
  {
   "cell_type": "markdown",
   "id": "0ea845f6-368a-447d-bc02-b3ce2dadd065",
   "metadata": {},
   "source": [
    "# Question 02"
   ]
  },
  {
   "cell_type": "markdown",
   "id": "e2968225-5c59-4830-b7e3-63ff1fc2f519",
   "metadata": {},
   "source": [
    "# Question 03"
   ]
  }
 ],
 "metadata": {
  "kernelspec": {
   "display_name": "Python 3 (ipykernel)",
   "language": "python",
   "name": "python3"
  },
  "language_info": {
   "codemirror_mode": {
    "name": "ipython",
    "version": 3
   },
   "file_extension": ".py",
   "mimetype": "text/x-python",
   "name": "python",
   "nbconvert_exporter": "python",
   "pygments_lexer": "ipython3",
   "version": "3.9.7"
  }
 },
 "nbformat": 4,
 "nbformat_minor": 5
}
