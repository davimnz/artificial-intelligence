{
 "cells": [
  {
   "cell_type": "code",
   "execution_count": 107,
   "id": "f482cbd4-e292-4a12-a8f2-00f5539b1fff",
   "metadata": {},
   "outputs": [],
   "source": [
    "import matplotlib.pyplot as plt"
   ]
  },
  {
   "cell_type": "code",
   "execution_count": 108,
   "id": "92e49aca-ec4d-48df-b42b-01f1a8615321",
   "metadata": {},
   "outputs": [],
   "source": [
    "class Cell(object):\n",
    "    \"\"\"\n",
    "    A representation of a game cell.\n",
    "    \"\"\"\n",
    "    \n",
    "    def __init__(self, position, cell_type, constraint):\n",
    "        \"\"\"\n",
    "        Creates a game cell.\n",
    "        \n",
    "        :parameter position: the position of the cell.\n",
    "        :type position: 2-dimensional tuple.\n",
    "        :parameter cell_type: {'free', 'wall', 'constrained_wall'}.\n",
    "        :type cell_type: string.\n",
    "        :parameter constraint: number of lights that must be adjacent to the current cell.\n",
    "        :type constraint: int.\n",
    "        \"\"\"\n",
    "        self.position = position\n",
    "        self.cell_type = cell_type\n",
    "        self.constraint = constraint\n",
    "        "
   ]
  },
  {
   "cell_type": "code",
   "execution_count": 109,
   "id": "f790220f-7899-4d6d-9393-25821b304884",
   "metadata": {},
   "outputs": [],
   "source": [
    "class Board(object):\n",
    "    \"\"\"\n",
    "    A representation of the game board.\n",
    "    \"\"\"\n",
    "    \n",
    "    def __init__(self, width, height, wall_positions):\n",
    "        \"\"\"\n",
    "        Creates the game board.\n",
    "        \n",
    "        :parameter width: number of columns of the board.\n",
    "        :type width: int.\n",
    "        :parameter height: number of rows of the board.\n",
    "        :type height: int.\n",
    "        :parameter wall_positions: a list of wall positions.\n",
    "        :type wall_positions: list of 3-dimensional tuple: (row, column, constraint).\n",
    "        \"\"\"\n",
    "        self.board_width = width\n",
    "        self.board_height = height\n",
    "        self.board = []\n",
    "        for i in range(self.board_height):\n",
    "            self.board.append([])\n",
    "            for j in range(self.board_width):\n",
    "                self.board[i].append([])\n",
    "\n",
    "        for i in range(width):\n",
    "            for j in range(height):\n",
    "                current_pos = (i, j)\n",
    "                cell_type = 'free'\n",
    "                constraint = None\n",
    "                \n",
    "                # Verify if current cell is a wall\n",
    "                for wall_pos in wall_positions:\n",
    "                    if i == wall_pos[0] and j == wall_pos[1]:\n",
    "                        if wall_pos[2] is None:\n",
    "                            cell_type = 'wall'\n",
    "                        else:\n",
    "                            cell_type = 'constrained_wall'\n",
    "                            constraint = wall_pos[2]\n",
    "\n",
    "                self.board[i][j] = Cell(current_pos, cell_type, constraint)\n",
    "        \n",
    "        self.light_positions = []\n",
    "    \n",
    "    def print_ascii_board(self):\n",
    "        \"\"\"\n",
    "        Prints board using ASCII characters.\n",
    "        F character is used for free cells.\n",
    "        W character is used for unconstrained walls.\n",
    "        Numbers are used for constrained walls. They indicate the number of adjacent lights required.\n",
    "        \"\"\"\n",
    "        for i in range(self.board_width):\n",
    "            for j in range(self.board_height):\n",
    "                if self.board[i][j].cell_type == 'free':\n",
    "                    print('F ', end='')\n",
    "                elif self.board[i][j].cell_type == 'constrained_wall':\n",
    "                    print(f'{self.board[i][j].constraint} ', end='')\n",
    "                elif self.board[i][j].cell_type == 'wall':\n",
    "                    print('W ', end='')\n",
    "            print('\\n')"
   ]
  },
  {
   "cell_type": "code",
   "execution_count": 110,
   "id": "4b2b8107-6791-4d59-ba39-e9a9749a5bdc",
   "metadata": {},
   "outputs": [],
   "source": [
    "width = 7\n",
    "height = 7\n",
    "wall_positions = [(0, 2, 1), \n",
    "                  (1, 3, 0), \n",
    "                  (1, 4, None), \n",
    "                  (2, 1, 0), \n",
    "                  (2, 6, 2), \n",
    "                  (3, 1, 0), \n",
    "                  (3, 3, None), \n",
    "                  (3, 5, None),\n",
    "                  (4, 0, None),\n",
    "                  (4, 5, 1),\n",
    "                  (5, 2, 3),\n",
    "                  (5, 3, 1),\n",
    "                  (6, 4, None)]\n",
    "\n",
    "board = Board(width, height, wall_positions)"
   ]
  },
  {
   "cell_type": "code",
   "execution_count": 106,
   "id": "0352713c-b45c-4115-8856-f3bd55cee695",
   "metadata": {},
   "outputs": [
    {
     "name": "stdout",
     "output_type": "stream",
     "text": [
      "F F 1 F F F F \n",
      "\n",
      "F F F 0 W F F \n",
      "\n",
      "F 0 F F F F 2 \n",
      "\n",
      "F 0 F W F W F \n",
      "\n",
      "W F F F F 1 F \n",
      "\n",
      "F F 3 1 F F F \n",
      "\n",
      "F F F F W F F \n",
      "\n"
     ]
    }
   ],
   "source": [
    "board.print_ascii_board()"
   ]
  },
  {
   "cell_type": "code",
   "execution_count": null,
   "id": "767568f5-4f1e-455c-afb5-a9098b6297e0",
   "metadata": {},
   "outputs": [],
   "source": []
  }
 ],
 "metadata": {
  "kernelspec": {
   "display_name": "Python 3 (ipykernel)",
   "language": "python",
   "name": "python3"
  },
  "language_info": {
   "codemirror_mode": {
    "name": "ipython",
    "version": 3
   },
   "file_extension": ".py",
   "mimetype": "text/x-python",
   "name": "python",
   "nbconvert_exporter": "python",
   "pygments_lexer": "ipython3",
   "version": "3.9.7"
  }
 },
 "nbformat": 4,
 "nbformat_minor": 5
}
