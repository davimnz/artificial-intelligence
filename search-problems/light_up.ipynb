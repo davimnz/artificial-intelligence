{
 "cells": [
  {
   "cell_type": "code",
   "execution_count": 107,
   "id": "f482cbd4-e292-4a12-a8f2-00f5539b1fff",
   "metadata": {},
   "outputs": [],
   "source": [
    "import matplotlib.pyplot as plt"
   ]
  },
  {
   "cell_type": "code",
   "execution_count": 162,
   "id": "92e49aca-ec4d-48df-b42b-01f1a8615321",
   "metadata": {},
   "outputs": [],
   "source": [
    "class Cell(object):\n",
    "    \"\"\"\n",
    "    A representation of a game cell.\n",
    "    \"\"\"\n",
    "    \n",
    "    def __init__(self, position, cell_type, constraint):\n",
    "        \"\"\"\n",
    "        Creates a game cell.\n",
    "        \n",
    "        :parameter position: the position of the cell.\n",
    "        :type position: 2-dimensional tuple.\n",
    "        :parameter cell_type: {'free', 'free_lighted', 'light', 'wall', 'constrained_wall'}.\n",
    "        :type cell_type: string.\n",
    "        :parameter constraint: number of lights that must be adjacent to the current cell.\n",
    "        :type constraint: int.\n",
    "        \"\"\"\n",
    "        self.position = position\n",
    "        self.cell_type = cell_type\n",
    "        self.constraint = constraint\n",
    "        \n",
    "    def set_cell_type(self, cell_type):\n",
    "        \"\"\"\n",
    "        Changes the cell type.\n",
    "        \n",
    "        :parameter cell_type: {'free', 'free_lighted', 'light'}.\n",
    "        :type cell_type: string.\n",
    "        \"\"\"\n",
    "        self.cell_type = cell_type\n",
    "        "
   ]
  },
  {
   "cell_type": "code",
   "execution_count": 167,
   "id": "f790220f-7899-4d6d-9393-25821b304884",
   "metadata": {},
   "outputs": [],
   "source": [
    "class Board(object):\n",
    "    \"\"\"\n",
    "    A representation of the game board.\n",
    "    \"\"\"\n",
    "    \n",
    "    def __init__(self, width, height, wall_positions):\n",
    "        \"\"\"\n",
    "        Creates the game board.\n",
    "        \n",
    "        :parameter width: number of columns of the board.\n",
    "        :type width: int.\n",
    "        :parameter height: number of rows of the board.\n",
    "        :type height: int.\n",
    "        :parameter wall_positions: a list of wall positions.\n",
    "        :type wall_positions: list of 3-dimensional tuple: (row, column, constraint).\n",
    "        \"\"\"\n",
    "        self.board_width = width\n",
    "        self.board_height = height\n",
    "        self.board = []\n",
    "        for i in range(self.board_height):\n",
    "            self.board.append([])\n",
    "            for j in range(self.board_width):\n",
    "                self.board[i].append([])\n",
    "\n",
    "        for i in range(width):\n",
    "            for j in range(height):\n",
    "                current_pos = (i, j)\n",
    "                cell_type = 'free'\n",
    "                constraint = None\n",
    "                \n",
    "                # Verify if current cell is a wall\n",
    "                for wall_pos in wall_positions:\n",
    "                    if i == wall_pos[0] and j == wall_pos[1]:\n",
    "                        if wall_pos[2] is None:\n",
    "                            cell_type = 'wall'\n",
    "                        else:\n",
    "                            cell_type = 'constrained_wall'\n",
    "                            constraint = wall_pos[2]\n",
    "\n",
    "                self.board[i][j] = Cell(current_pos, cell_type, constraint)\n",
    "        \n",
    "    def is_pos_valid(self, position):\n",
    "        \"\"\"\n",
    "        Verifies if a given position respects the board dimensions.\n",
    "        \n",
    "        :parameter position: position that we want to check.\n",
    "        :type position: 2-dimensional tuple.\n",
    "        :rtype: bool.\n",
    "        \"\"\"\n",
    "        if position[0] < 0 or position[0] >= self.board_width:\n",
    "            return False\n",
    "        elif position[1] < 0 or position[1] >= self.board_height:\n",
    "            return False\n",
    "        return True\n",
    "    \n",
    "    def illuminate_cells(self, light_position):\n",
    "        \"\"\"\n",
    "        Illuminate cells based on the light position.\n",
    "        \n",
    "        :parameter light_position: the position of the light.\n",
    "        :type initial_position: 2-dimensional tuple.\n",
    "        \"\"\"\n",
    "        current_row = light_position[0] - 1\n",
    "        while current_row >= 0:\n",
    "            cell_type = self.board[current_row][light_position[1]].cell_type\n",
    "            if cell_type == 'free':\n",
    "                self.board[current_row][light_position[1]].set_cell_type('free_lighted')\n",
    "            elif cell_type == 'wall' or cell_type == 'constrained_wall':\n",
    "                break\n",
    "            current_row -= 1\n",
    "\n",
    "        current_row = light_position[0] + 1\n",
    "        while current_row < self.board_width:\n",
    "            cell_type = self.board[current_row][light_position[1]].cell_type\n",
    "            if cell_type == 'free':\n",
    "                self.board[current_row][light_position[1]].set_cell_type('free_lighted')\n",
    "            elif cell_type == 'wall' or cell_type == 'constrained_wall':\n",
    "                break\n",
    "            current_row += 1\n",
    "\n",
    "        current_col = light_position[1] - 1\n",
    "        while current_col >= 0:\n",
    "            cell_type = self.board[light_position[0]][current_col].cell_type\n",
    "            if cell_type == 'free':\n",
    "                self.board[light_position[0]][current_col].set_cell_type('free_lighted')\n",
    "            elif cell_type == 'wall' or cell_type == 'constrained_wall':\n",
    "                break\n",
    "            current_col -= 1\n",
    "\n",
    "        current_col = light_position[1] + 1\n",
    "        while current_col < self.board_height:\n",
    "            cell_type = self.board[light_position[0]][current_col].cell_type\n",
    "            if cell_type == 'free':\n",
    "                self.board[light_position[0]][current_col].set_cell_type('free_lighted')\n",
    "            elif cell_type == 'wall' or cell_type == 'constrained_wall':\n",
    "                break\n",
    "            current_col += 1\n",
    "        \n",
    "    def place_light(self, position):\n",
    "        \"\"\"\n",
    "        Places a light at position if possible.\n",
    "        \n",
    "        :parameter position: the light's position.\n",
    "        :type position: 2-dimensional tuple.\n",
    "        :return: if the light was successfully placed at position.\n",
    "        :rtype: bool.\n",
    "        \"\"\"\n",
    "        if self.is_pos_valid(position):\n",
    "            if self.board[position[0]][position[1]].cell_type == 'free' or self.board[position[0]][position[1]].cell_type == 'free_lighted': \n",
    "                self.board[position[0]][position[1]] = Cell(position, 'light', None)\n",
    "                self.illuminate_cells(position)\n",
    "                                \n",
    "                return True\n",
    "            else:\n",
    "                return False\n",
    "        else:\n",
    "            raise IndexError()\n",
    "    \n",
    "    def print_ascii_board(self):\n",
    "        \"\"\"\n",
    "        Prints board using ASCII characters.\n",
    "        F character is used for free cells.\n",
    "        W character is used for unconstrained walls.\n",
    "        L character is used for lights.\n",
    "        FL string is used for free lighted cells.\n",
    "        Numbers are used for constrained walls. They indicate the number of adjacent lights required.\n",
    "        \"\"\"\n",
    "        for i in range(self.board_width):\n",
    "            for j in range(self.board_height):\n",
    "                cell_type = self.board[i][j].cell_type\n",
    "                if cell_type == 'free':\n",
    "                    print('F  ', end='')\n",
    "                elif cell_type == 'constrained_wall':\n",
    "                    print(f'{self.board[i][j].constraint}  ', end='')\n",
    "                elif cell_type == 'wall':\n",
    "                    print('W  ', end='')\n",
    "                elif cell_type == 'light':\n",
    "                    print('L  ', end='')\n",
    "                elif cell_type == 'free_lighted':\n",
    "                    print('FL ', end='')\n",
    "            print('\\n')"
   ]
  },
  {
   "cell_type": "code",
   "execution_count": 168,
   "id": "4b2b8107-6791-4d59-ba39-e9a9749a5bdc",
   "metadata": {},
   "outputs": [],
   "source": [
    "width = 7\n",
    "height = 7\n",
    "wall_positions = [(0, 2, 1), \n",
    "                  (1, 3, 0), \n",
    "                  (1, 4, None), \n",
    "                  (2, 1, 0), \n",
    "                  (2, 6, 2), \n",
    "                  (3, 1, 0), \n",
    "                  (3, 3, None), \n",
    "                  (3, 5, None),\n",
    "                  (4, 0, None),\n",
    "                  (4, 5, 1),\n",
    "                  (5, 2, 3),\n",
    "                  (5, 3, 1),\n",
    "                  (6, 4, None)]\n",
    "\n",
    "board = Board(width, height, wall_positions)"
   ]
  },
  {
   "cell_type": "code",
   "execution_count": 169,
   "id": "0352713c-b45c-4115-8856-f3bd55cee695",
   "metadata": {},
   "outputs": [
    {
     "name": "stdout",
     "output_type": "stream",
     "text": [
      "F  F  1  F  F  F  F  \n",
      "\n",
      "F  F  F  0  W  F  F  \n",
      "\n",
      "F  0  F  F  F  F  2  \n",
      "\n",
      "F  0  F  W  F  W  F  \n",
      "\n",
      "W  F  F  F  F  1  F  \n",
      "\n",
      "F  F  3  1  F  F  F  \n",
      "\n",
      "F  F  F  F  W  F  F  \n",
      "\n"
     ]
    }
   ],
   "source": [
    "board.print_ascii_board()"
   ]
  },
  {
   "cell_type": "code",
   "execution_count": 170,
   "id": "767568f5-4f1e-455c-afb5-a9098b6297e0",
   "metadata": {},
   "outputs": [
    {
     "data": {
      "text/plain": [
       "True"
      ]
     },
     "execution_count": 170,
     "metadata": {},
     "output_type": "execute_result"
    }
   ],
   "source": [
    "board.place_light((4, 1))"
   ]
  },
  {
   "cell_type": "code",
   "execution_count": 171,
   "id": "15806636-4809-44d3-b4a8-e5b768462625",
   "metadata": {},
   "outputs": [
    {
     "name": "stdout",
     "output_type": "stream",
     "text": [
      "F  F  1  F  F  F  F  \n",
      "\n",
      "F  F  F  0  W  F  F  \n",
      "\n",
      "F  0  F  F  F  F  2  \n",
      "\n",
      "F  0  F  W  F  W  F  \n",
      "\n",
      "W  L  FL FL FL 1  F  \n",
      "\n",
      "F  FL 3  1  F  F  F  \n",
      "\n",
      "F  FL F  F  W  F  F  \n",
      "\n"
     ]
    }
   ],
   "source": [
    "board.print_ascii_board()"
   ]
  },
  {
   "cell_type": "code",
   "execution_count": 172,
   "id": "a44bf4a1-67ed-4deb-a562-2165ebd0b1f2",
   "metadata": {},
   "outputs": [
    {
     "data": {
      "text/plain": [
       "False"
      ]
     },
     "execution_count": 172,
     "metadata": {},
     "output_type": "execute_result"
    }
   ],
   "source": [
    "board.place_light((3, 3))"
   ]
  },
  {
   "cell_type": "code",
   "execution_count": 173,
   "id": "56012048-fbcf-4549-9988-ecee3cfdee9e",
   "metadata": {},
   "outputs": [
    {
     "data": {
      "text/plain": [
       "True"
      ]
     },
     "execution_count": 173,
     "metadata": {},
     "output_type": "execute_result"
    }
   ],
   "source": [
    "board.place_light((4, 4))"
   ]
  },
  {
   "cell_type": "code",
   "execution_count": 174,
   "id": "fe6d27b5-b1dc-4e00-bf86-669b7a2cd39b",
   "metadata": {},
   "outputs": [
    {
     "name": "stdout",
     "output_type": "stream",
     "text": [
      "F  F  1  F  F  F  F  \n",
      "\n",
      "F  F  F  0  W  F  F  \n",
      "\n",
      "F  0  F  F  FL F  2  \n",
      "\n",
      "F  0  F  W  FL W  F  \n",
      "\n",
      "W  L  FL FL L  1  F  \n",
      "\n",
      "F  FL 3  1  FL F  F  \n",
      "\n",
      "F  FL F  F  W  F  F  \n",
      "\n"
     ]
    }
   ],
   "source": [
    "board.print_ascii_board()"
   ]
  },
  {
   "cell_type": "code",
   "execution_count": 175,
   "id": "51b386f1-a483-451f-8316-52f4ff5631f9",
   "metadata": {},
   "outputs": [
    {
     "data": {
      "text/plain": [
       "False"
      ]
     },
     "execution_count": 175,
     "metadata": {},
     "output_type": "execute_result"
    }
   ],
   "source": [
    "board.place_light((2, 1))"
   ]
  },
  {
   "cell_type": "code",
   "execution_count": 176,
   "id": "f50bcf8d-1514-48b9-9862-ccabdfb8f8fc",
   "metadata": {},
   "outputs": [
    {
     "data": {
      "text/plain": [
       "True"
      ]
     },
     "execution_count": 176,
     "metadata": {},
     "output_type": "execute_result"
    }
   ],
   "source": [
    "board.place_light((1, 1))"
   ]
  },
  {
   "cell_type": "code",
   "execution_count": 177,
   "id": "17a3dcf6-d498-44ee-a3f9-bd539df23605",
   "metadata": {},
   "outputs": [
    {
     "name": "stdout",
     "output_type": "stream",
     "text": [
      "F  FL 1  F  F  F  F  \n",
      "\n",
      "FL L  FL 0  W  F  F  \n",
      "\n",
      "F  0  F  F  FL F  2  \n",
      "\n",
      "F  0  F  W  FL W  F  \n",
      "\n",
      "W  L  FL FL L  1  F  \n",
      "\n",
      "F  FL 3  1  FL F  F  \n",
      "\n",
      "F  FL F  F  W  F  F  \n",
      "\n"
     ]
    }
   ],
   "source": [
    "board.print_ascii_board()"
   ]
  }
 ],
 "metadata": {
  "kernelspec": {
   "display_name": "Python 3 (ipykernel)",
   "language": "python",
   "name": "python3"
  },
  "language_info": {
   "codemirror_mode": {
    "name": "ipython",
    "version": 3
   },
   "file_extension": ".py",
   "mimetype": "text/x-python",
   "name": "python",
   "nbconvert_exporter": "python",
   "pygments_lexer": "ipython3",
   "version": "3.9.7"
  }
 },
 "nbformat": 4,
 "nbformat_minor": 5
}
